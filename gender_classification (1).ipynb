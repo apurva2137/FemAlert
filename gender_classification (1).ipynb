{
  "nbformat": 4,
  "nbformat_minor": 0,
  "metadata": {
    "colab": {
      "provenance": [],
      "gpuType": "T4"
    },
    "kernelspec": {
      "name": "python3",
      "display_name": "Python 3"
    },
    "language_info": {
      "name": "python"
    },
    "accelerator": "GPU"
  },
  "cells": [
    {
      "cell_type": "code",
      "execution_count": 2,
      "metadata": {
        "id": "Z1OD-9Y96hW7"
      },
      "outputs": [],
      "source": [
        "import cv2"
      ]
    },
    {
      "cell_type": "code",
      "source": [
        "import tensorflow as tf"
      ],
      "metadata": {
        "id": "xks5Ry2X7n-w"
      },
      "execution_count": 3,
      "outputs": []
    },
    {
      "cell_type": "code",
      "source": [
        "from tensorflow.keras.preprocessing.image import ImageDataGenerator,img_to_array"
      ],
      "metadata": {
        "id": "3YCdfxwk7sXn"
      },
      "execution_count": 4,
      "outputs": []
    },
    {
      "cell_type": "code",
      "source": [
        "from tensorflow.keras.models import Sequential,Model"
      ],
      "metadata": {
        "id": "R3hUxLf48XUN"
      },
      "execution_count": 5,
      "outputs": []
    },
    {
      "cell_type": "code",
      "source": [
        "from tensorflow.keras.layers import Dense,Flatten"
      ],
      "metadata": {
        "id": "TgtIlAI_8b2T"
      },
      "execution_count": 6,
      "outputs": []
    },
    {
      "cell_type": "code",
      "source": [
        "from tensorflow.keras.optimizers import Adam"
      ],
      "metadata": {
        "id": "lpPPz9d98cwY"
      },
      "execution_count": 7,
      "outputs": []
    },
    {
      "cell_type": "code",
      "source": [
        "from tensorflow.keras.utils import to_categorical"
      ],
      "metadata": {
        "id": "rZTde37C84ld"
      },
      "execution_count": 8,
      "outputs": []
    },
    {
      "cell_type": "code",
      "source": [
        "from keras.applications.vgg16 import VGG16"
      ],
      "metadata": {
        "id": "etNb587U9Ffd"
      },
      "execution_count": 9,
      "outputs": []
    },
    {
      "cell_type": "code",
      "source": [
        "from sklearn.model_selection import train_test_split"
      ],
      "metadata": {
        "id": "-4wIG5S09U_j"
      },
      "execution_count": 10,
      "outputs": []
    },
    {
      "cell_type": "code",
      "source": [
        "import numpy as np\n",
        "import os\n",
        "import matplotlib.pyplot as plt\n",
        "import random\n",
        "import glob"
      ],
      "metadata": {
        "id": "lPZ72_kg9fn9"
      },
      "execution_count": 11,
      "outputs": []
    },
    {
      "cell_type": "code",
      "source": [
        "from google.colab import drive\n",
        "drive.mount('/content/drive')"
      ],
      "metadata": {
        "colab": {
          "base_uri": "https://localhost:8080/"
        },
        "id": "jwHJejdw9xt-",
        "outputId": "f2fa41e6-1dcf-4f72-eaae-23adf1ff7f61"
      },
      "execution_count": 19,
      "outputs": [
        {
          "output_type": "stream",
          "name": "stdout",
          "text": [
            "Drive already mounted at /content/drive; to attempt to forcibly remount, call drive.mount(\"/content/drive\", force_remount=True).\n"
          ]
        }
      ]
    },
    {
      "cell_type": "markdown",
      "source": [],
      "metadata": {
        "id": "OiMdhfHpL5ga"
      }
    },
    {
      "cell_type": "code",
      "source": [
        "!unzip  '/content/drive/MyDrive/gender_dataset_face.zip'"
      ],
      "metadata": {
        "colab": {
          "base_uri": "https://localhost:8080/"
        },
        "collapsed": true,
        "id": "JutxEXB19_K5",
        "outputId": "50c94f54-5c25-4018-99ee-7bd2991a9c30"
      },
      "execution_count": null,
      "outputs": [
        {
          "output_type": "stream",
          "name": "stdout",
          "text": [
            "Archive:  /content/drive/MyDrive/gender_dataset_face.zip\n",
            "replace gender_dataset_face/man/face_90.jpg? [y]es, [n]o, [A]ll, [N]one, [r]ename: "
          ]
        }
      ]
    },
    {
      "cell_type": "code",
      "source": [
        "image_files = [i for i in glob.glob(r'/content/gender_dataset_face/**/*.jpg',recursive=True) if not os.path.isdir(i)]"
      ],
      "metadata": {
        "id": "l40t9zk1--Vm"
      },
      "execution_count": 20,
      "outputs": []
    },
    {
      "cell_type": "code",
      "source": [
        "image_files"
      ],
      "metadata": {
        "colab": {
          "base_uri": "https://localhost:8080/"
        },
        "id": "nYZMmq7qRqOC",
        "outputId": "37b5919c-797a-4163-b065-2c71b01ac2da",
        "collapsed": true
      },
      "execution_count": 21,
      "outputs": [
        {
          "output_type": "execute_result",
          "data": {
            "text/plain": [
              "['/content/gender_dataset_face/man/face_1482.jpg',\n",
              " '/content/gender_dataset_face/man/face_249.jpg',\n",
              " '/content/gender_dataset_face/man/face_964.jpg',\n",
              " '/content/gender_dataset_face/man/face_83.jpg',\n",
              " '/content/gender_dataset_face/man/face_599.jpg',\n",
              " '/content/gender_dataset_face/man/face_968.jpg',\n",
              " '/content/gender_dataset_face/man/face_3.jpg',\n",
              " '/content/gender_dataset_face/man/face_869.jpg',\n",
              " '/content/gender_dataset_face/man/face_458.jpg',\n",
              " '/content/gender_dataset_face/man/face_555.jpg',\n",
              " '/content/gender_dataset_face/man/face_257.jpg',\n",
              " '/content/gender_dataset_face/man/face_322.jpg',\n",
              " '/content/gender_dataset_face/man/face_124.jpg',\n",
              " '/content/gender_dataset_face/man/face_997.jpg',\n",
              " '/content/gender_dataset_face/man/face_848.jpg',\n",
              " '/content/gender_dataset_face/man/face_1492.jpg',\n",
              " '/content/gender_dataset_face/man/face_1480.jpg',\n",
              " '/content/gender_dataset_face/man/face_601.jpg',\n",
              " '/content/gender_dataset_face/man/face_940.jpg',\n",
              " '/content/gender_dataset_face/man/face_1162.jpg',\n",
              " '/content/gender_dataset_face/man/face_325.jpg',\n",
              " '/content/gender_dataset_face/man/face_506.jpg',\n",
              " '/content/gender_dataset_face/man/face_172.jpg',\n",
              " '/content/gender_dataset_face/man/face_972.jpg',\n",
              " '/content/gender_dataset_face/man/face_1483.jpg',\n",
              " '/content/gender_dataset_face/man/face_216.jpg',\n",
              " '/content/gender_dataset_face/man/face_1294.jpg',\n",
              " '/content/gender_dataset_face/man/face_1372.jpg',\n",
              " '/content/gender_dataset_face/man/face_955.jpg',\n",
              " '/content/gender_dataset_face/man/face_1452.jpg',\n",
              " '/content/gender_dataset_face/man/face_943.jpg',\n",
              " '/content/gender_dataset_face/man/face_470.jpg',\n",
              " '/content/gender_dataset_face/man/face_872.jpg',\n",
              " '/content/gender_dataset_face/man/face_729.jpg',\n",
              " '/content/gender_dataset_face/man/face_606.jpg',\n",
              " '/content/gender_dataset_face/man/face_85.jpg',\n",
              " '/content/gender_dataset_face/man/face_671.jpg',\n",
              " '/content/gender_dataset_face/man/face_712.jpg',\n",
              " '/content/gender_dataset_face/man/face_607.jpg',\n",
              " '/content/gender_dataset_face/man/face_455.jpg',\n",
              " '/content/gender_dataset_face/man/face_183.jpg',\n",
              " '/content/gender_dataset_face/man/face_226.jpg',\n",
              " '/content/gender_dataset_face/man/face_1332.jpg',\n",
              " '/content/gender_dataset_face/man/face_566.jpg',\n",
              " '/content/gender_dataset_face/man/face_1388.jpg',\n",
              " '/content/gender_dataset_face/man/face_765.jpg',\n",
              " '/content/gender_dataset_face/man/face_298.jpg',\n",
              " '/content/gender_dataset_face/man/face_1206.jpg',\n",
              " '/content/gender_dataset_face/man/face_335.jpg',\n",
              " '/content/gender_dataset_face/man/face_976.jpg',\n",
              " '/content/gender_dataset_face/man/face_941.jpg',\n",
              " '/content/gender_dataset_face/man/face_76.jpg',\n",
              " '/content/gender_dataset_face/man/face_542.jpg',\n",
              " '/content/gender_dataset_face/man/face_1500.jpg',\n",
              " '/content/gender_dataset_face/man/face_1150.jpg',\n",
              " '/content/gender_dataset_face/man/face_559.jpg',\n",
              " '/content/gender_dataset_face/man/face_991.jpg',\n",
              " '/content/gender_dataset_face/man/face_939.jpg',\n",
              " '/content/gender_dataset_face/man/face_749.jpg',\n",
              " '/content/gender_dataset_face/man/face_539.jpg',\n",
              " '/content/gender_dataset_face/man/face_1019.jpg',\n",
              " '/content/gender_dataset_face/man/face_1219.jpg',\n",
              " '/content/gender_dataset_face/man/face_1074.jpg',\n",
              " '/content/gender_dataset_face/man/face_841.jpg',\n",
              " '/content/gender_dataset_face/man/face_514.jpg',\n",
              " '/content/gender_dataset_face/man/face_466.jpg',\n",
              " '/content/gender_dataset_face/man/face_1353.jpg',\n",
              " '/content/gender_dataset_face/man/face_1511.jpg',\n",
              " '/content/gender_dataset_face/man/face_19.jpg',\n",
              " '/content/gender_dataset_face/man/face_949.jpg',\n",
              " '/content/gender_dataset_face/man/face_1374.jpg',\n",
              " '/content/gender_dataset_face/man/face_1496.jpg',\n",
              " '/content/gender_dataset_face/man/face_385.jpg',\n",
              " '/content/gender_dataset_face/man/face_711.jpg',\n",
              " '/content/gender_dataset_face/man/face_517.jpg',\n",
              " '/content/gender_dataset_face/man/face_1490.jpg',\n",
              " '/content/gender_dataset_face/man/face_1513.jpg',\n",
              " '/content/gender_dataset_face/man/face_1333.jpg',\n",
              " '/content/gender_dataset_face/man/face_1115.jpg',\n",
              " '/content/gender_dataset_face/man/face_1370.jpg',\n",
              " '/content/gender_dataset_face/man/face_1446.jpg',\n",
              " '/content/gender_dataset_face/man/face_285.jpg',\n",
              " '/content/gender_dataset_face/man/face_223.jpg',\n",
              " '/content/gender_dataset_face/man/face_477.jpg',\n",
              " '/content/gender_dataset_face/man/face_1053.jpg',\n",
              " '/content/gender_dataset_face/man/face_1279.jpg',\n",
              " '/content/gender_dataset_face/man/face_985.jpg',\n",
              " '/content/gender_dataset_face/man/face_132.jpg',\n",
              " '/content/gender_dataset_face/man/face_929.jpg',\n",
              " '/content/gender_dataset_face/man/face_660.jpg',\n",
              " '/content/gender_dataset_face/man/face_1378.jpg',\n",
              " '/content/gender_dataset_face/man/face_237.jpg',\n",
              " '/content/gender_dataset_face/man/face_1275.jpg',\n",
              " '/content/gender_dataset_face/man/face_448.jpg',\n",
              " '/content/gender_dataset_face/man/face_1433.jpg',\n",
              " '/content/gender_dataset_face/man/face_781.jpg',\n",
              " '/content/gender_dataset_face/man/face_221.jpg',\n",
              " '/content/gender_dataset_face/man/face_12.jpg',\n",
              " '/content/gender_dataset_face/man/face_1408.jpg',\n",
              " '/content/gender_dataset_face/man/face_899.jpg',\n",
              " '/content/gender_dataset_face/man/face_1512.jpg',\n",
              " '/content/gender_dataset_face/man/face_1153.jpg',\n",
              " '/content/gender_dataset_face/man/face_526.jpg',\n",
              " '/content/gender_dataset_face/man/face_662.jpg',\n",
              " '/content/gender_dataset_face/man/face_1037.jpg',\n",
              " '/content/gender_dataset_face/man/face_831.jpg',\n",
              " '/content/gender_dataset_face/man/face_1323.jpg',\n",
              " '/content/gender_dataset_face/man/face_1424.jpg',\n",
              " '/content/gender_dataset_face/man/face_834.jpg',\n",
              " '/content/gender_dataset_face/man/face_119.jpg',\n",
              " '/content/gender_dataset_face/man/face_1213.jpg',\n",
              " '/content/gender_dataset_face/man/face_1091.jpg',\n",
              " '/content/gender_dataset_face/man/face_977.jpg',\n",
              " '/content/gender_dataset_face/man/face_1384.jpg',\n",
              " '/content/gender_dataset_face/man/face_854.jpg',\n",
              " '/content/gender_dataset_face/man/face_721.jpg',\n",
              " '/content/gender_dataset_face/man/face_1145.jpg',\n",
              " '/content/gender_dataset_face/man/face_113.jpg',\n",
              " '/content/gender_dataset_face/man/face_1254.jpg',\n",
              " '/content/gender_dataset_face/man/face_437.jpg',\n",
              " '/content/gender_dataset_face/man/face_484.jpg',\n",
              " '/content/gender_dataset_face/man/face_1006.jpg',\n",
              " '/content/gender_dataset_face/man/face_439.jpg',\n",
              " '/content/gender_dataset_face/man/face_1119.jpg',\n",
              " '/content/gender_dataset_face/man/face_481.jpg',\n",
              " '/content/gender_dataset_face/man/face_419.jpg',\n",
              " '/content/gender_dataset_face/man/face_233.jpg',\n",
              " '/content/gender_dataset_face/man/face_51.jpg',\n",
              " '/content/gender_dataset_face/man/face_1427.jpg',\n",
              " '/content/gender_dataset_face/man/face_501.jpg',\n",
              " '/content/gender_dataset_face/man/face_77.jpg',\n",
              " '/content/gender_dataset_face/man/face_1134.jpg',\n",
              " '/content/gender_dataset_face/man/face_26.jpg',\n",
              " '/content/gender_dataset_face/man/face_1175.jpg',\n",
              " '/content/gender_dataset_face/man/face_1443.jpg',\n",
              " '/content/gender_dataset_face/man/face_1339.jpg',\n",
              " '/content/gender_dataset_face/man/face_996.jpg',\n",
              " '/content/gender_dataset_face/man/face_922.jpg',\n",
              " '/content/gender_dataset_face/man/face_1463.jpg',\n",
              " '/content/gender_dataset_face/man/face_1368.jpg',\n",
              " '/content/gender_dataset_face/man/face_1371.jpg',\n",
              " '/content/gender_dataset_face/man/face_270.jpg',\n",
              " '/content/gender_dataset_face/man/face_320.jpg',\n",
              " '/content/gender_dataset_face/man/face_1183.jpg',\n",
              " '/content/gender_dataset_face/man/face_269.jpg',\n",
              " '/content/gender_dataset_face/man/face_649.jpg',\n",
              " '/content/gender_dataset_face/man/face_832.jpg',\n",
              " '/content/gender_dataset_face/man/face_67.jpg',\n",
              " '/content/gender_dataset_face/man/face_364.jpg',\n",
              " '/content/gender_dataset_face/man/face_435.jpg',\n",
              " '/content/gender_dataset_face/man/face_358.jpg',\n",
              " '/content/gender_dataset_face/man/face_978.jpg',\n",
              " '/content/gender_dataset_face/man/face_213.jpg',\n",
              " '/content/gender_dataset_face/man/face_572.jpg',\n",
              " '/content/gender_dataset_face/man/face_1205.jpg',\n",
              " '/content/gender_dataset_face/man/face_462.jpg',\n",
              " '/content/gender_dataset_face/man/face_1406.jpg',\n",
              " '/content/gender_dataset_face/man/face_1035.jpg',\n",
              " '/content/gender_dataset_face/man/face_359.jpg',\n",
              " '/content/gender_dataset_face/man/face_323.jpg',\n",
              " '/content/gender_dataset_face/man/face_1284.jpg',\n",
              " '/content/gender_dataset_face/man/face_568.jpg',\n",
              " '/content/gender_dataset_face/man/face_111.jpg',\n",
              " '/content/gender_dataset_face/man/face_112.jpg',\n",
              " '/content/gender_dataset_face/man/face_1278.jpg',\n",
              " '/content/gender_dataset_face/man/face_851.jpg',\n",
              " '/content/gender_dataset_face/man/face_668.jpg',\n",
              " '/content/gender_dataset_face/man/face_810.jpg',\n",
              " '/content/gender_dataset_face/man/face_768.jpg',\n",
              " '/content/gender_dataset_face/man/face_239.jpg',\n",
              " '/content/gender_dataset_face/man/face_1491.jpg',\n",
              " '/content/gender_dataset_face/man/face_726.jpg',\n",
              " '/content/gender_dataset_face/man/face_1401.jpg',\n",
              " '/content/gender_dataset_face/man/face_627.jpg',\n",
              " '/content/gender_dataset_face/man/face_222.jpg',\n",
              " '/content/gender_dataset_face/man/face_843.jpg',\n",
              " '/content/gender_dataset_face/man/face_287.jpg',\n",
              " '/content/gender_dataset_face/man/face_1270.jpg',\n",
              " '/content/gender_dataset_face/man/face_1398.jpg',\n",
              " '/content/gender_dataset_face/man/face_634.jpg',\n",
              " '/content/gender_dataset_face/man/face_1528.jpg',\n",
              " '/content/gender_dataset_face/man/face_579.jpg',\n",
              " '/content/gender_dataset_face/man/face_1436.jpg',\n",
              " '/content/gender_dataset_face/man/face_191.jpg',\n",
              " '/content/gender_dataset_face/man/face_212.jpg',\n",
              " '/content/gender_dataset_face/man/face_544.jpg',\n",
              " '/content/gender_dataset_face/man/face_1258.jpg',\n",
              " '/content/gender_dataset_face/man/face_1432.jpg',\n",
              " '/content/gender_dataset_face/man/face_658.jpg',\n",
              " '/content/gender_dataset_face/man/face_160.jpg',\n",
              " '/content/gender_dataset_face/man/face_516.jpg',\n",
              " '/content/gender_dataset_face/man/face_1344.jpg',\n",
              " '/content/gender_dataset_face/man/face_670.jpg',\n",
              " '/content/gender_dataset_face/man/face_1367.jpg',\n",
              " '/content/gender_dataset_face/man/face_1413.jpg',\n",
              " '/content/gender_dataset_face/man/face_916.jpg',\n",
              " '/content/gender_dataset_face/man/face_1051.jpg',\n",
              " '/content/gender_dataset_face/man/face_1430.jpg',\n",
              " '/content/gender_dataset_face/man/face_1479.jpg',\n",
              " '/content/gender_dataset_face/man/face_42.jpg',\n",
              " '/content/gender_dataset_face/man/face_772.jpg',\n",
              " '/content/gender_dataset_face/man/face_1441.jpg',\n",
              " '/content/gender_dataset_face/man/face_395.jpg',\n",
              " '/content/gender_dataset_face/man/face_936.jpg',\n",
              " '/content/gender_dataset_face/man/face_928.jpg',\n",
              " '/content/gender_dataset_face/man/face_1094.jpg',\n",
              " '/content/gender_dataset_face/man/face_713.jpg',\n",
              " '/content/gender_dataset_face/man/face_904.jpg',\n",
              " '/content/gender_dataset_face/man/face_32.jpg',\n",
              " '/content/gender_dataset_face/man/face_1423.jpg',\n",
              " '/content/gender_dataset_face/man/face_1522.jpg',\n",
              " '/content/gender_dataset_face/man/face_1486.jpg',\n",
              " '/content/gender_dataset_face/man/face_181.jpg',\n",
              " '/content/gender_dataset_face/man/face_1453.jpg',\n",
              " '/content/gender_dataset_face/man/face_770.jpg',\n",
              " '/content/gender_dataset_face/man/face_229.jpg',\n",
              " '/content/gender_dataset_face/man/face_1299.jpg',\n",
              " '/content/gender_dataset_face/man/face_1250.jpg',\n",
              " '/content/gender_dataset_face/man/face_34.jpg',\n",
              " '/content/gender_dataset_face/man/face_467.jpg',\n",
              " '/content/gender_dataset_face/man/face_148.jpg',\n",
              " '/content/gender_dataset_face/man/face_1054.jpg',\n",
              " '/content/gender_dataset_face/man/face_185.jpg',\n",
              " '/content/gender_dataset_face/man/face_130.jpg',\n",
              " '/content/gender_dataset_face/man/face_73.jpg',\n",
              " '/content/gender_dataset_face/man/face_694.jpg',\n",
              " '/content/gender_dataset_face/man/face_989.jpg',\n",
              " '/content/gender_dataset_face/man/face_1484.jpg',\n",
              " '/content/gender_dataset_face/man/face_656.jpg',\n",
              " '/content/gender_dataset_face/man/face_280.jpg',\n",
              " '/content/gender_dataset_face/man/face_1358.jpg',\n",
              " '/content/gender_dataset_face/man/face_1086.jpg',\n",
              " '/content/gender_dataset_face/man/face_368.jpg',\n",
              " '/content/gender_dataset_face/man/face_333.jpg',\n",
              " '/content/gender_dataset_face/man/face_698.jpg',\n",
              " '/content/gender_dataset_face/man/face_1509.jpg',\n",
              " '/content/gender_dataset_face/man/face_232.jpg',\n",
              " '/content/gender_dataset_face/man/face_598.jpg',\n",
              " '/content/gender_dataset_face/man/face_209.jpg',\n",
              " '/content/gender_dataset_face/man/face_994.jpg',\n",
              " '/content/gender_dataset_face/man/face_962.jpg',\n",
              " '/content/gender_dataset_face/man/face_429.jpg',\n",
              " '/content/gender_dataset_face/man/face_64.jpg',\n",
              " '/content/gender_dataset_face/man/face_1240.jpg',\n",
              " '/content/gender_dataset_face/man/face_1471.jpg',\n",
              " '/content/gender_dataset_face/man/face_1346.jpg',\n",
              " '/content/gender_dataset_face/man/face_52.jpg',\n",
              " '/content/gender_dataset_face/man/face_1308.jpg',\n",
              " '/content/gender_dataset_face/man/face_1351.jpg',\n",
              " '/content/gender_dataset_face/man/face_1106.jpg',\n",
              " '/content/gender_dataset_face/man/face_684.jpg',\n",
              " '/content/gender_dataset_face/man/face_240.jpg',\n",
              " '/content/gender_dataset_face/man/face_850.jpg',\n",
              " '/content/gender_dataset_face/man/face_1085.jpg',\n",
              " '/content/gender_dataset_face/man/face_215.jpg',\n",
              " '/content/gender_dataset_face/man/face_449.jpg',\n",
              " '/content/gender_dataset_face/man/face_129.jpg',\n",
              " '/content/gender_dataset_face/man/face_1403.jpg',\n",
              " '/content/gender_dataset_face/man/face_1174.jpg',\n",
              " '/content/gender_dataset_face/man/face_1291.jpg',\n",
              " '/content/gender_dataset_face/man/face_433.jpg',\n",
              " '/content/gender_dataset_face/man/face_425.jpg',\n",
              " '/content/gender_dataset_face/man/face_300.jpg',\n",
              " '/content/gender_dataset_face/man/face_725.jpg',\n",
              " '/content/gender_dataset_face/man/face_41.jpg',\n",
              " '/content/gender_dataset_face/man/face_63.jpg',\n",
              " '/content/gender_dataset_face/man/face_428.jpg',\n",
              " '/content/gender_dataset_face/man/face_1189.jpg',\n",
              " '/content/gender_dataset_face/man/face_659.jpg',\n",
              " '/content/gender_dataset_face/man/face_1164.jpg',\n",
              " '/content/gender_dataset_face/man/face_1407.jpg',\n",
              " '/content/gender_dataset_face/man/face_1190.jpg',\n",
              " '/content/gender_dataset_face/man/face_753.jpg',\n",
              " '/content/gender_dataset_face/man/face_242.jpg',\n",
              " '/content/gender_dataset_face/man/face_676.jpg',\n",
              " '/content/gender_dataset_face/man/face_27.jpg',\n",
              " '/content/gender_dataset_face/man/face_953.jpg',\n",
              " '/content/gender_dataset_face/man/face_202.jpg',\n",
              " '/content/gender_dataset_face/man/face_1380.jpg',\n",
              " '/content/gender_dataset_face/man/face_91.jpg',\n",
              " '/content/gender_dataset_face/man/face_1178.jpg',\n",
              " '/content/gender_dataset_face/man/face_653.jpg',\n",
              " '/content/gender_dataset_face/man/face_243.jpg',\n",
              " '/content/gender_dataset_face/man/face_94.jpg',\n",
              " '/content/gender_dataset_face/man/face_645.jpg',\n",
              " '/content/gender_dataset_face/man/face_795.jpg',\n",
              " '/content/gender_dataset_face/man/face_1405.jpg',\n",
              " '/content/gender_dataset_face/man/face_28.jpg',\n",
              " '/content/gender_dataset_face/man/face_644.jpg',\n",
              " '/content/gender_dataset_face/man/face_1312.jpg',\n",
              " '/content/gender_dataset_face/man/face_718.jpg',\n",
              " '/content/gender_dataset_face/man/face_152.jpg',\n",
              " '/content/gender_dataset_face/man/face_1161.jpg',\n",
              " '/content/gender_dataset_face/man/face_773.jpg',\n",
              " '/content/gender_dataset_face/man/face_1288.jpg',\n",
              " '/content/gender_dataset_face/man/face_927.jpg',\n",
              " '/content/gender_dataset_face/man/face_134.jpg',\n",
              " '/content/gender_dataset_face/man/face_1514.jpg',\n",
              " '/content/gender_dataset_face/man/face_1.jpg',\n",
              " '/content/gender_dataset_face/man/face_557.jpg',\n",
              " '/content/gender_dataset_face/man/face_161.jpg',\n",
              " '/content/gender_dataset_face/man/face_639.jpg',\n",
              " '/content/gender_dataset_face/man/face_367.jpg',\n",
              " '/content/gender_dataset_face/man/face_2.jpg',\n",
              " '/content/gender_dataset_face/man/face_524.jpg',\n",
              " '/content/gender_dataset_face/man/face_1345.jpg',\n",
              " '/content/gender_dataset_face/man/face_1477.jpg',\n",
              " '/content/gender_dataset_face/man/face_1245.jpg',\n",
              " '/content/gender_dataset_face/man/face_1383.jpg',\n",
              " '/content/gender_dataset_face/man/face_16.jpg',\n",
              " '/content/gender_dataset_face/man/face_1078.jpg',\n",
              " '/content/gender_dataset_face/man/face_349.jpg',\n",
              " '/content/gender_dataset_face/man/face_960.jpg',\n",
              " '/content/gender_dataset_face/man/face_1340.jpg',\n",
              " '/content/gender_dataset_face/man/face_24.jpg',\n",
              " '/content/gender_dataset_face/man/face_289.jpg',\n",
              " '/content/gender_dataset_face/man/face_293.jpg',\n",
              " '/content/gender_dataset_face/man/face_1274.jpg',\n",
              " '/content/gender_dataset_face/man/face_22.jpg',\n",
              " '/content/gender_dataset_face/man/face_1376.jpg',\n",
              " '/content/gender_dataset_face/man/face_751.jpg',\n",
              " '/content/gender_dataset_face/man/face_504.jpg',\n",
              " '/content/gender_dataset_face/man/face_1393.jpg',\n",
              " '/content/gender_dataset_face/man/face_142.jpg',\n",
              " '/content/gender_dataset_face/man/face_1391.jpg',\n",
              " '/content/gender_dataset_face/man/face_332.jpg',\n",
              " '/content/gender_dataset_face/man/face_912.jpg',\n",
              " '/content/gender_dataset_face/man/face_1056.jpg',\n",
              " '/content/gender_dataset_face/man/face_417.jpg',\n",
              " '/content/gender_dataset_face/man/face_1473.jpg',\n",
              " '/content/gender_dataset_face/man/face_104.jpg',\n",
              " '/content/gender_dataset_face/man/face_970.jpg',\n",
              " '/content/gender_dataset_face/man/face_1065.jpg',\n",
              " '/content/gender_dataset_face/man/face_1141.jpg',\n",
              " '/content/gender_dataset_face/man/face_723.jpg',\n",
              " '/content/gender_dataset_face/man/face_84.jpg',\n",
              " '/content/gender_dataset_face/man/face_591.jpg',\n",
              " '/content/gender_dataset_face/man/face_545.jpg',\n",
              " '/content/gender_dataset_face/man/face_1373.jpg',\n",
              " '/content/gender_dataset_face/man/face_780.jpg',\n",
              " '/content/gender_dataset_face/man/face_582.jpg',\n",
              " '/content/gender_dataset_face/man/face_1251.jpg',\n",
              " '/content/gender_dataset_face/man/face_235.jpg',\n",
              " '/content/gender_dataset_face/man/face_995.jpg',\n",
              " '/content/gender_dataset_face/man/face_934.jpg',\n",
              " '/content/gender_dataset_face/man/face_1385.jpg',\n",
              " '/content/gender_dataset_face/man/face_87.jpg',\n",
              " '/content/gender_dataset_face/man/face_630.jpg',\n",
              " '/content/gender_dataset_face/man/face_1415.jpg',\n",
              " '/content/gender_dataset_face/man/face_1399.jpg',\n",
              " '/content/gender_dataset_face/man/face_1196.jpg',\n",
              " '/content/gender_dataset_face/man/face_282.jpg',\n",
              " '/content/gender_dataset_face/man/face_168.jpg',\n",
              " '/content/gender_dataset_face/man/face_990.jpg',\n",
              " '/content/gender_dataset_face/man/face_45.jpg',\n",
              " '/content/gender_dataset_face/man/face_338.jpg',\n",
              " '/content/gender_dataset_face/man/face_523.jpg',\n",
              " '/content/gender_dataset_face/man/face_1084.jpg',\n",
              " '/content/gender_dataset_face/man/face_1292.jpg',\n",
              " '/content/gender_dataset_face/man/face_1402.jpg',\n",
              " '/content/gender_dataset_face/man/face_1197.jpg',\n",
              " '/content/gender_dataset_face/man/face_353.jpg',\n",
              " '/content/gender_dataset_face/man/face_5.jpg',\n",
              " '/content/gender_dataset_face/man/face_1026.jpg',\n",
              " '/content/gender_dataset_face/man/face_265.jpg',\n",
              " '/content/gender_dataset_face/man/face_520.jpg',\n",
              " '/content/gender_dataset_face/man/face_1059.jpg',\n",
              " '/content/gender_dataset_face/man/face_1494.jpg',\n",
              " '/content/gender_dataset_face/man/face_1237.jpg',\n",
              " '/content/gender_dataset_face/man/face_536.jpg',\n",
              " '/content/gender_dataset_face/man/face_672.jpg',\n",
              " '/content/gender_dataset_face/man/face_135.jpg',\n",
              " '/content/gender_dataset_face/man/face_862.jpg',\n",
              " '/content/gender_dataset_face/man/face_1036.jpg',\n",
              " '/content/gender_dataset_face/man/face_231.jpg',\n",
              " '/content/gender_dataset_face/man/face_616.jpg',\n",
              " '/content/gender_dataset_face/man/face_109.jpg',\n",
              " '/content/gender_dataset_face/man/face_1249.jpg',\n",
              " '/content/gender_dataset_face/man/face_531.jpg',\n",
              " '/content/gender_dataset_face/man/face_451.jpg',\n",
              " '/content/gender_dataset_face/man/face_1478.jpg',\n",
              " '/content/gender_dataset_face/man/face_415.jpg',\n",
              " '/content/gender_dataset_face/man/face_592.jpg',\n",
              " '/content/gender_dataset_face/man/face_82.jpg',\n",
              " '/content/gender_dataset_face/man/face_614.jpg',\n",
              " '/content/gender_dataset_face/man/face_917.jpg',\n",
              " '/content/gender_dataset_face/man/face_275.jpg',\n",
              " '/content/gender_dataset_face/man/face_515.jpg',\n",
              " '/content/gender_dataset_face/man/face_1261.jpg',\n",
              " '/content/gender_dataset_face/man/face_1364.jpg',\n",
              " '/content/gender_dataset_face/man/face_136.jpg',\n",
              " '/content/gender_dataset_face/man/face_1418.jpg',\n",
              " '/content/gender_dataset_face/man/face_1124.jpg',\n",
              " '/content/gender_dataset_face/man/face_186.jpg',\n",
              " '/content/gender_dataset_face/man/face_187.jpg',\n",
              " '/content/gender_dataset_face/man/face_432.jpg',\n",
              " '/content/gender_dataset_face/man/face_35.jpg',\n",
              " '/content/gender_dataset_face/man/face_1099.jpg',\n",
              " '/content/gender_dataset_face/man/face_1123.jpg',\n",
              " '/content/gender_dataset_face/man/face_30.jpg',\n",
              " '/content/gender_dataset_face/man/face_373.jpg',\n",
              " '/content/gender_dataset_face/man/face_563.jpg',\n",
              " '/content/gender_dataset_face/man/face_1472.jpg',\n",
              " '/content/gender_dataset_face/man/face_1474.jpg',\n",
              " '/content/gender_dataset_face/man/face_863.jpg',\n",
              " '/content/gender_dataset_face/man/face_993.jpg',\n",
              " '/content/gender_dataset_face/man/face_1096.jpg',\n",
              " '/content/gender_dataset_face/man/face_106.jpg',\n",
              " '/content/gender_dataset_face/man/face_1050.jpg',\n",
              " '/content/gender_dataset_face/man/face_720.jpg',\n",
              " '/content/gender_dataset_face/man/face_580.jpg',\n",
              " '/content/gender_dataset_face/man/face_184.jpg',\n",
              " '/content/gender_dataset_face/man/face_316.jpg',\n",
              " '/content/gender_dataset_face/man/face_1079.jpg',\n",
              " '/content/gender_dataset_face/man/face_498.jpg',\n",
              " '/content/gender_dataset_face/man/face_613.jpg',\n",
              " '/content/gender_dataset_face/man/face_748.jpg',\n",
              " '/content/gender_dataset_face/man/face_1438.jpg',\n",
              " '/content/gender_dataset_face/man/face_1379.jpg',\n",
              " '/content/gender_dataset_face/man/face_1444.jpg',\n",
              " '/content/gender_dataset_face/man/face_117.jpg',\n",
              " '/content/gender_dataset_face/man/face_1342.jpg',\n",
              " '/content/gender_dataset_face/man/face_1449.jpg',\n",
              " '/content/gender_dataset_face/man/face_13.jpg',\n",
              " '/content/gender_dataset_face/man/face_44.jpg',\n",
              " '/content/gender_dataset_face/man/face_103.jpg',\n",
              " '/content/gender_dataset_face/man/face_497.jpg',\n",
              " '/content/gender_dataset_face/man/face_255.jpg',\n",
              " '/content/gender_dataset_face/man/face_230.jpg',\n",
              " '/content/gender_dataset_face/man/face_1105.jpg',\n",
              " '/content/gender_dataset_face/man/face_1434.jpg',\n",
              " '/content/gender_dataset_face/man/face_1497.jpg',\n",
              " '/content/gender_dataset_face/man/face_1082.jpg',\n",
              " '/content/gender_dataset_face/man/face_1475.jpg',\n",
              " '/content/gender_dataset_face/man/face_1231.jpg',\n",
              " '/content/gender_dataset_face/man/face_878.jpg',\n",
              " '/content/gender_dataset_face/man/face_272.jpg',\n",
              " '/content/gender_dataset_face/man/face_25.jpg',\n",
              " '/content/gender_dataset_face/man/face_261.jpg',\n",
              " '/content/gender_dataset_face/man/face_1429.jpg',\n",
              " '/content/gender_dataset_face/man/face_974.jpg',\n",
              " '/content/gender_dataset_face/man/face_304.jpg',\n",
              " '/content/gender_dataset_face/man/face_351.jpg',\n",
              " '/content/gender_dataset_face/man/face_1095.jpg',\n",
              " '/content/gender_dataset_face/man/face_267.jpg',\n",
              " '/content/gender_dataset_face/man/face_336.jpg',\n",
              " '/content/gender_dataset_face/man/face_472.jpg',\n",
              " '/content/gender_dataset_face/man/face_1029.jpg',\n",
              " '/content/gender_dataset_face/man/face_196.jpg',\n",
              " '/content/gender_dataset_face/man/face_36.jpg',\n",
              " '/content/gender_dataset_face/man/face_128.jpg',\n",
              " '/content/gender_dataset_face/man/face_836.jpg',\n",
              " '/content/gender_dataset_face/man/face_1159.jpg',\n",
              " '/content/gender_dataset_face/man/face_1264.jpg',\n",
              " '/content/gender_dataset_face/man/face_492.jpg',\n",
              " '/content/gender_dataset_face/man/face_1442.jpg',\n",
              " '/content/gender_dataset_face/man/face_464.jpg',\n",
              " '/content/gender_dataset_face/man/face_1295.jpg',\n",
              " '/content/gender_dataset_face/man/face_1498.jpg',\n",
              " '/content/gender_dataset_face/man/face_108.jpg',\n",
              " '/content/gender_dataset_face/man/face_176.jpg',\n",
              " '/content/gender_dataset_face/man/face_292.jpg',\n",
              " '/content/gender_dataset_face/man/face_427.jpg',\n",
              " '/content/gender_dataset_face/man/face_356.jpg',\n",
              " '/content/gender_dataset_face/man/face_1311.jpg',\n",
              " '/content/gender_dataset_face/man/face_396.jpg',\n",
              " '/content/gender_dataset_face/man/face_125.jpg',\n",
              " '/content/gender_dataset_face/man/face_650.jpg',\n",
              " '/content/gender_dataset_face/man/face_131.jpg',\n",
              " '/content/gender_dataset_face/man/face_90.jpg',\n",
              " '/content/gender_dataset_face/man/face_1203.jpg',\n",
              " '/content/gender_dataset_face/man/face_345.jpg',\n",
              " '/content/gender_dataset_face/man/face_1416.jpg',\n",
              " '/content/gender_dataset_face/man/face_512.jpg',\n",
              " '/content/gender_dataset_face/man/face_256.jpg',\n",
              " '/content/gender_dataset_face/man/face_14.jpg',\n",
              " '/content/gender_dataset_face/man/face_839.jpg',\n",
              " '/content/gender_dataset_face/man/face_302.jpg',\n",
              " '/content/gender_dataset_face/man/face_593.jpg',\n",
              " '/content/gender_dataset_face/man/face_1242.jpg',\n",
              " '/content/gender_dataset_face/man/face_1112.jpg',\n",
              " '/content/gender_dataset_face/man/face_926.jpg',\n",
              " '/content/gender_dataset_face/man/face_352.jpg',\n",
              " '/content/gender_dataset_face/man/face_1272.jpg',\n",
              " '/content/gender_dataset_face/man/face_1296.jpg',\n",
              " '/content/gender_dataset_face/man/face_935.jpg',\n",
              " '/content/gender_dataset_face/man/face_1349.jpg',\n",
              " '/content/gender_dataset_face/man/face_1169.jpg',\n",
              " '/content/gender_dataset_face/man/face_268.jpg',\n",
              " '/content/gender_dataset_face/man/face_143.jpg',\n",
              " '/content/gender_dataset_face/man/face_274.jpg',\n",
              " '/content/gender_dataset_face/man/face_747.jpg',\n",
              " '/content/gender_dataset_face/man/face_686.jpg',\n",
              " '/content/gender_dataset_face/man/face_1447.jpg',\n",
              " '/content/gender_dataset_face/man/face_194.jpg',\n",
              " '/content/gender_dataset_face/man/face_1010.jpg',\n",
              " '/content/gender_dataset_face/man/face_1180.jpg',\n",
              " '/content/gender_dataset_face/man/face_503.jpg',\n",
              " '/content/gender_dataset_face/man/face_680.jpg',\n",
              " '/content/gender_dataset_face/man/face_309.jpg',\n",
              " '/content/gender_dataset_face/man/face_642.jpg',\n",
              " '/content/gender_dataset_face/man/face_1066.jpg',\n",
              " '/content/gender_dataset_face/man/face_262.jpg',\n",
              " '/content/gender_dataset_face/man/face_1414.jpg',\n",
              " '/content/gender_dataset_face/man/face_188.jpg',\n",
              " '/content/gender_dataset_face/man/face_666.jpg',\n",
              " '/content/gender_dataset_face/man/face_1139.jpg',\n",
              " '/content/gender_dataset_face/man/face_139.jpg',\n",
              " '/content/gender_dataset_face/man/face_631.jpg',\n",
              " '/content/gender_dataset_face/man/face_1247.jpg',\n",
              " '/content/gender_dataset_face/man/face_1030.jpg',\n",
              " '/content/gender_dataset_face/man/face_846.jpg',\n",
              " '/content/gender_dataset_face/man/face_692.jpg',\n",
              " '/content/gender_dataset_face/man/face_1335.jpg',\n",
              " '/content/gender_dataset_face/man/face_1120.jpg',\n",
              " '/content/gender_dataset_face/man/face_1253.jpg',\n",
              " '/content/gender_dataset_face/man/face_454.jpg',\n",
              " '/content/gender_dataset_face/man/face_375.jpg',\n",
              " '/content/gender_dataset_face/man/face_276.jpg',\n",
              " '/content/gender_dataset_face/man/face_228.jpg',\n",
              " '/content/gender_dataset_face/man/face_189.jpg',\n",
              " '/content/gender_dataset_face/man/face_665.jpg',\n",
              " '/content/gender_dataset_face/man/face_771.jpg',\n",
              " '/content/gender_dataset_face/man/face_867.jpg',\n",
              " '/content/gender_dataset_face/man/face_1102.jpg',\n",
              " '/content/gender_dataset_face/man/face_588.jpg',\n",
              " '/content/gender_dataset_face/man/face_973.jpg',\n",
              " '/content/gender_dataset_face/man/face_624.jpg',\n",
              " '/content/gender_dataset_face/man/face_65.jpg',\n",
              " '/content/gender_dataset_face/man/face_541.jpg',\n",
              " '/content/gender_dataset_face/man/face_1485.jpg',\n",
              " '/content/gender_dataset_face/man/face_1033.jpg',\n",
              " '/content/gender_dataset_face/man/face_880.jpg',\n",
              " '/content/gender_dataset_face/man/face_1410.jpg',\n",
              " '/content/gender_dataset_face/man/face_99.jpg',\n",
              " '/content/gender_dataset_face/man/face_1101.jpg',\n",
              " '/content/gender_dataset_face/man/face_966.jpg',\n",
              " '/content/gender_dataset_face/man/face_646.jpg',\n",
              " '/content/gender_dataset_face/man/face_945.jpg',\n",
              " '/content/gender_dataset_face/man/face_207.jpg',\n",
              " '/content/gender_dataset_face/man/face_931.jpg',\n",
              " '/content/gender_dataset_face/man/face_74.jpg',\n",
              " '/content/gender_dataset_face/man/face_1081.jpg',\n",
              " '/content/gender_dataset_face/man/face_344.jpg',\n",
              " '/content/gender_dataset_face/man/face_1165.jpg',\n",
              " '/content/gender_dataset_face/man/face_151.jpg',\n",
              " '/content/gender_dataset_face/man/face_120.jpg',\n",
              " '/content/gender_dataset_face/man/face_1320.jpg',\n",
              " '/content/gender_dataset_face/man/face_875.jpg',\n",
              " '/content/gender_dataset_face/man/face_1140.jpg',\n",
              " '/content/gender_dataset_face/man/face_696.jpg',\n",
              " '/content/gender_dataset_face/man/face_1181.jpg',\n",
              " '/content/gender_dataset_face/man/face_1256.jpg',\n",
              " '/content/gender_dataset_face/man/face_1350.jpg',\n",
              " '/content/gender_dataset_face/man/face_1420.jpg',\n",
              " '/content/gender_dataset_face/man/face_1004.jpg',\n",
              " '/content/gender_dataset_face/man/face_1236.jpg',\n",
              " '/content/gender_dataset_face/man/face_149.jpg',\n",
              " '/content/gender_dataset_face/man/face_31.jpg',\n",
              " '/content/gender_dataset_face/man/face_1155.jpg',\n",
              " '/content/gender_dataset_face/man/face_175.jpg',\n",
              " '/content/gender_dataset_face/man/face_734.jpg',\n",
              " '/content/gender_dataset_face/man/face_9.jpg',\n",
              " '/content/gender_dataset_face/man/face_281.jpg',\n",
              " '/content/gender_dataset_face/man/face_1098.jpg',\n",
              " '/content/gender_dataset_face/man/face_701.jpg',\n",
              " '/content/gender_dataset_face/man/face_1476.jpg',\n",
              " '/content/gender_dataset_face/man/face_625.jpg',\n",
              " '/content/gender_dataset_face/man/face_334.jpg',\n",
              " '/content/gender_dataset_face/man/face_195.jpg',\n",
              " '/content/gender_dataset_face/man/face_837.jpg',\n",
              " '/content/gender_dataset_face/man/face_1456.jpg',\n",
              " '/content/gender_dataset_face/man/face_491.jpg',\n",
              " '/content/gender_dataset_face/man/face_1016.jpg',\n",
              " '/content/gender_dataset_face/man/face_485.jpg',\n",
              " '/content/gender_dataset_face/man/face_762.jpg',\n",
              " '/content/gender_dataset_face/man/face_200.jpg',\n",
              " '/content/gender_dataset_face/man/face_1397.jpg',\n",
              " '/content/gender_dataset_face/man/face_1201.jpg',\n",
              " '/content/gender_dataset_face/man/face_1147.jpg',\n",
              " '/content/gender_dataset_face/man/face_291.jpg',\n",
              " '/content/gender_dataset_face/man/face_706.jpg',\n",
              " '/content/gender_dataset_face/man/face_198.jpg',\n",
              " '/content/gender_dataset_face/man/face_703.jpg',\n",
              " '/content/gender_dataset_face/man/face_49.jpg',\n",
              " '/content/gender_dataset_face/man/face_906.jpg',\n",
              " '/content/gender_dataset_face/man/face_1058.jpg',\n",
              " '/content/gender_dataset_face/man/face_1143.jpg',\n",
              " '/content/gender_dataset_face/man/face_441.jpg',\n",
              " '/content/gender_dataset_face/man/face_1271.jpg',\n",
              " '/content/gender_dataset_face/man/face_461.jpg',\n",
              " '/content/gender_dataset_face/man/face_1267.jpg',\n",
              " '/content/gender_dataset_face/man/face_1108.jpg',\n",
              " '/content/gender_dataset_face/man/face_127.jpg',\n",
              " '/content/gender_dataset_face/man/face_1076.jpg',\n",
              " '/content/gender_dataset_face/man/face_1075.jpg',\n",
              " '/content/gender_dataset_face/man/face_4.jpg',\n",
              " '/content/gender_dataset_face/man/face_1457.jpg',\n",
              " '/content/gender_dataset_face/man/face_521.jpg',\n",
              " '/content/gender_dataset_face/man/face_1234.jpg',\n",
              " '/content/gender_dataset_face/man/face_465.jpg',\n",
              " '/content/gender_dataset_face/man/face_612.jpg',\n",
              " '/content/gender_dataset_face/man/face_999.jpg',\n",
              " '/content/gender_dataset_face/man/face_1462.jpg',\n",
              " '/content/gender_dataset_face/man/face_844.jpg',\n",
              " '/content/gender_dataset_face/man/face_68.jpg',\n",
              " '/content/gender_dataset_face/man/face_182.jpg',\n",
              " '/content/gender_dataset_face/man/face_1018.jpg',\n",
              " '/content/gender_dataset_face/man/face_1182.jpg',\n",
              " '/content/gender_dataset_face/man/face_1107.jpg',\n",
              " '/content/gender_dataset_face/man/face_115.jpg',\n",
              " '/content/gender_dataset_face/man/face_511.jpg',\n",
              " '/content/gender_dataset_face/man/face_321.jpg',\n",
              " '/content/gender_dataset_face/man/face_950.jpg',\n",
              " '/content/gender_dataset_face/man/face_60.jpg',\n",
              " '/content/gender_dataset_face/man/face_307.jpg',\n",
              " '/content/gender_dataset_face/man/face_206.jpg',\n",
              " '/content/gender_dataset_face/man/face_1142.jpg',\n",
              " '/content/gender_dataset_face/man/face_313.jpg',\n",
              " '/content/gender_dataset_face/man/face_1302.jpg',\n",
              " '/content/gender_dataset_face/man/face_1021.jpg',\n",
              " '/content/gender_dataset_face/man/face_890.jpg',\n",
              " '/content/gender_dataset_face/man/face_519.jpg',\n",
              " '/content/gender_dataset_face/man/face_1386.jpg',\n",
              " '/content/gender_dataset_face/man/face_769.jpg',\n",
              " '/content/gender_dataset_face/man/face_594.jpg',\n",
              " '/content/gender_dataset_face/man/face_306.jpg',\n",
              " '/content/gender_dataset_face/man/face_162.jpg',\n",
              " '/content/gender_dataset_face/man/face_1148.jpg',\n",
              " '/content/gender_dataset_face/man/face_220.jpg',\n",
              " '/content/gender_dataset_face/man/face_244.jpg',\n",
              " '/content/gender_dataset_face/man/face_97.jpg',\n",
              " '/content/gender_dataset_face/man/face_529.jpg',\n",
              " '/content/gender_dataset_face/man/face_1012.jpg',\n",
              " '/content/gender_dataset_face/man/face_528.jpg',\n",
              " '/content/gender_dataset_face/man/face_1501.jpg',\n",
              " '/content/gender_dataset_face/man/face_393.jpg',\n",
              " '/content/gender_dataset_face/man/face_156.jpg',\n",
              " '/content/gender_dataset_face/man/face_664.jpg',\n",
              " '/content/gender_dataset_face/man/face_1487.jpg',\n",
              " '/content/gender_dataset_face/man/face_865.jpg',\n",
              " '/content/gender_dataset_face/man/face_573.jpg',\n",
              " '/content/gender_dataset_face/man/face_1218.jpg',\n",
              " '/content/gender_dataset_face/man/face_405.jpg',\n",
              " '/content/gender_dataset_face/man/face_918.jpg',\n",
              " '/content/gender_dataset_face/man/face_683.jpg',\n",
              " '/content/gender_dataset_face/man/face_547.jpg',\n",
              " '/content/gender_dataset_face/man/face_1504.jpg',\n",
              " '/content/gender_dataset_face/man/face_507.jpg',\n",
              " '/content/gender_dataset_face/man/face_337.jpg',\n",
              " '/content/gender_dataset_face/man/face_361.jpg',\n",
              " '/content/gender_dataset_face/man/face_933.jpg',\n",
              " '/content/gender_dataset_face/man/face_408.jpg',\n",
              " '/content/gender_dataset_face/man/face_1110.jpg',\n",
              " '/content/gender_dataset_face/man/face_1003.jpg',\n",
              " '/content/gender_dataset_face/man/face_811.jpg',\n",
              " '/content/gender_dataset_face/man/face_1324.jpg',\n",
              " '/content/gender_dataset_face/man/face_1136.jpg',\n",
              " '/content/gender_dataset_face/man/face_1329.jpg',\n",
              " '/content/gender_dataset_face/man/face_1041.jpg',\n",
              " '/content/gender_dataset_face/man/face_219.jpg',\n",
              " '/content/gender_dataset_face/man/face_371.jpg',\n",
              " '/content/gender_dataset_face/man/face_595.jpg',\n",
              " '/content/gender_dataset_face/man/face_1024.jpg',\n",
              " '/content/gender_dataset_face/man/face_43.jpg',\n",
              " '/content/gender_dataset_face/man/face_1523.jpg',\n",
              " '/content/gender_dataset_face/man/face_1341.jpg',\n",
              " '/content/gender_dataset_face/man/face_1428.jpg',\n",
              " '/content/gender_dataset_face/man/face_615.jpg',\n",
              " '/content/gender_dataset_face/man/face_1047.jpg',\n",
              " '/content/gender_dataset_face/man/face_1062.jpg',\n",
              " '/content/gender_dataset_face/man/face_1298.jpg',\n",
              " '/content/gender_dataset_face/man/face_1045.jpg',\n",
              " '/content/gender_dataset_face/man/face_66.jpg',\n",
              " '/content/gender_dataset_face/man/face_873.jpg',\n",
              " '/content/gender_dataset_face/man/face_250.jpg',\n",
              " '/content/gender_dataset_face/man/face_1152.jpg',\n",
              " '/content/gender_dataset_face/man/face_1215.jpg',\n",
              " '/content/gender_dataset_face/man/face_570.jpg',\n",
              " '/content/gender_dataset_face/man/face_1144.jpg',\n",
              " '/content/gender_dataset_face/man/face_1200.jpg',\n",
              " '/content/gender_dataset_face/man/face_870.jpg',\n",
              " '/content/gender_dataset_face/man/face_453.jpg',\n",
              " '/content/gender_dataset_face/man/face_746.jpg',\n",
              " '/content/gender_dataset_face/man/face_1454.jpg',\n",
              " '/content/gender_dataset_face/man/face_387.jpg',\n",
              " '/content/gender_dataset_face/man/face_552.jpg',\n",
              " '/content/gender_dataset_face/man/face_986.jpg',\n",
              " '/content/gender_dataset_face/man/face_1014.jpg',\n",
              " '/content/gender_dataset_face/man/face_629.jpg',\n",
              " '/content/gender_dataset_face/man/face_905.jpg',\n",
              " '/content/gender_dataset_face/man/face_57.jpg',\n",
              " '/content/gender_dataset_face/man/face_488.jpg',\n",
              " '/content/gender_dataset_face/man/face_54.jpg',\n",
              " '/content/gender_dataset_face/man/face_92.jpg',\n",
              " '/content/gender_dataset_face/man/face_1046.jpg',\n",
              " '/content/gender_dataset_face/man/face_370.jpg',\n",
              " '/content/gender_dataset_face/man/face_58.jpg',\n",
              " '/content/gender_dataset_face/man/face_1273.jpg',\n",
              " '/content/gender_dataset_face/man/face_1097.jpg',\n",
              " '/content/gender_dataset_face/man/face_1307.jpg',\n",
              " '/content/gender_dataset_face/man/face_158.jpg',\n",
              " '/content/gender_dataset_face/man/face_1211.jpg',\n",
              " '/content/gender_dataset_face/man/face_1266.jpg',\n",
              " '/content/gender_dataset_face/man/face_799.jpg',\n",
              " '/content/gender_dataset_face/man/face_581.jpg',\n",
              " '/content/gender_dataset_face/man/face_390.jpg',\n",
              " '/content/gender_dataset_face/man/face_741.jpg',\n",
              " '/content/gender_dataset_face/man/face_264.jpg',\n",
              " '/content/gender_dataset_face/man/face_1317.jpg',\n",
              " '/content/gender_dataset_face/man/face_654.jpg',\n",
              " '/content/gender_dataset_face/man/face_510.jpg',\n",
              " '/content/gender_dataset_face/man/face_278.jpg',\n",
              " '/content/gender_dataset_face/man/face_661.jpg',\n",
              " '/content/gender_dataset_face/man/face_444.jpg',\n",
              " '/content/gender_dataset_face/man/face_159.jpg',\n",
              " '/content/gender_dataset_face/man/face_1000.jpg',\n",
              " '/content/gender_dataset_face/man/face_550.jpg',\n",
              " '/content/gender_dataset_face/man/face_900.jpg',\n",
              " '/content/gender_dataset_face/man/face_859.jpg',\n",
              " '/content/gender_dataset_face/man/face_479.jpg',\n",
              " '/content/gender_dataset_face/man/face_311.jpg',\n",
              " '/content/gender_dataset_face/man/face_597.jpg',\n",
              " '/content/gender_dataset_face/man/face_1297.jpg',\n",
              " '/content/gender_dataset_face/man/face_525.jpg',\n",
              " '/content/gender_dataset_face/man/face_540.jpg',\n",
              " '/content/gender_dataset_face/man/face_177.jpg',\n",
              " '/content/gender_dataset_face/man/face_1301.jpg',\n",
              " '/content/gender_dataset_face/man/face_728.jpg',\n",
              " '/content/gender_dataset_face/man/face_1495.jpg',\n",
              " '/content/gender_dataset_face/man/face_979.jpg',\n",
              " '/content/gender_dataset_face/man/face_192.jpg',\n",
              " '/content/gender_dataset_face/man/face_1352.jpg',\n",
              " '/content/gender_dataset_face/man/face_923.jpg',\n",
              " '/content/gender_dataset_face/man/face_1321.jpg',\n",
              " '/content/gender_dataset_face/man/face_628.jpg',\n",
              " '/content/gender_dataset_face/man/face_707.jpg',\n",
              " '/content/gender_dataset_face/man/face_719.jpg',\n",
              " '/content/gender_dataset_face/man/face_40.jpg',\n",
              " '/content/gender_dataset_face/man/face_214.jpg',\n",
              " '/content/gender_dataset_face/man/face_1230.jpg',\n",
              " '/content/gender_dataset_face/man/face_1465.jpg',\n",
              " '/content/gender_dataset_face/man/face_1293.jpg',\n",
              " '/content/gender_dataset_face/man/face_532.jpg',\n",
              " '/content/gender_dataset_face/man/face_1243.jpg',\n",
              " '/content/gender_dataset_face/man/face_118.jpg',\n",
              " '/content/gender_dataset_face/man/face_122.jpg',\n",
              " '/content/gender_dataset_face/man/face_640.jpg',\n",
              " '/content/gender_dataset_face/man/face_910.jpg',\n",
              " '/content/gender_dataset_face/man/face_509.jpg',\n",
              " '/content/gender_dataset_face/man/face_8.jpg',\n",
              " '/content/gender_dataset_face/man/face_1188.jpg',\n",
              " '/content/gender_dataset_face/man/face_388.jpg',\n",
              " '/content/gender_dataset_face/man/face_1257.jpg',\n",
              " '/content/gender_dataset_face/man/face_1083.jpg',\n",
              " '/content/gender_dataset_face/man/face_279.jpg',\n",
              " '/content/gender_dataset_face/man/face_193.jpg',\n",
              " '/content/gender_dataset_face/man/face_987.jpg',\n",
              " '/content/gender_dataset_face/man/face_1166.jpg',\n",
              " '/content/gender_dataset_face/man/face_372.jpg',\n",
              " '/content/gender_dataset_face/man/face_341.jpg',\n",
              " '/content/gender_dataset_face/man/face_1104.jpg',\n",
              " '/content/gender_dataset_face/man/face_116.jpg',\n",
              " '/content/gender_dataset_face/man/face_1369.jpg',\n",
              " '/content/gender_dataset_face/man/face_1461.jpg',\n",
              " '/content/gender_dataset_face/man/face_1392.jpg',\n",
              " '/content/gender_dataset_face/man/face_508.jpg',\n",
              " '/content/gender_dataset_face/man/face_79.jpg',\n",
              " '/content/gender_dataset_face/man/face_569.jpg',\n",
              " '/content/gender_dataset_face/man/face_452.jpg',\n",
              " '/content/gender_dataset_face/man/face_391.jpg',\n",
              " '/content/gender_dataset_face/man/face_1080.jpg',\n",
              " '/content/gender_dataset_face/man/face_925.jpg',\n",
              " '/content/gender_dataset_face/man/face_538.jpg',\n",
              " '/content/gender_dataset_face/man/face_699.jpg',\n",
              " '/content/gender_dataset_face/man/face_764.jpg',\n",
              " '/content/gender_dataset_face/man/face_1217.jpg',\n",
              " '/content/gender_dataset_face/man/face_1090.jpg',\n",
              " '/content/gender_dataset_face/man/face_549.jpg',\n",
              " '/content/gender_dataset_face/man/face_959.jpg',\n",
              " '/content/gender_dataset_face/man/face_1093.jpg',\n",
              " '/content/gender_dataset_face/man/face_590.jpg',\n",
              " '/content/gender_dataset_face/man/face_253.jpg',\n",
              " '/content/gender_dataset_face/man/face_95.jpg',\n",
              " '/content/gender_dataset_face/man/face_126.jpg',\n",
              " '/content/gender_dataset_face/man/face_327.jpg',\n",
              " '/content/gender_dataset_face/man/face_1280.jpg',\n",
              " '/content/gender_dataset_face/man/face_889.jpg',\n",
              " '/content/gender_dataset_face/man/face_546.jpg',\n",
              " '/content/gender_dataset_face/man/face_739.jpg',\n",
              " '/content/gender_dataset_face/man/face_500.jpg',\n",
              " '/content/gender_dataset_face/man/face_71.jpg',\n",
              " '/content/gender_dataset_face/man/face_830.jpg',\n",
              " '/content/gender_dataset_face/man/face_1122.jpg',\n",
              " '/content/gender_dataset_face/man/face_1191.jpg',\n",
              " '/content/gender_dataset_face/man/face_469.jpg',\n",
              " '/content/gender_dataset_face/man/face_350.jpg',\n",
              " '/content/gender_dataset_face/man/face_105.jpg',\n",
              " '/content/gender_dataset_face/man/face_288.jpg',\n",
              " '/content/gender_dataset_face/man/face_1032.jpg',\n",
              " '/content/gender_dataset_face/man/face_319.jpg',\n",
              " '/content/gender_dataset_face/man/face_201.jpg',\n",
              " '/content/gender_dataset_face/man/face_1318.jpg',\n",
              " '/content/gender_dataset_face/man/face_1330.jpg',\n",
              " '/content/gender_dataset_face/man/face_1048.jpg',\n",
              " '/content/gender_dataset_face/man/face_689.jpg',\n",
              " '/content/gender_dataset_face/man/face_50.jpg',\n",
              " '/content/gender_dataset_face/man/face_355.jpg',\n",
              " '/content/gender_dataset_face/man/face_981.jpg',\n",
              " '/content/gender_dataset_face/man/face_1121.jpg',\n",
              " '/content/gender_dataset_face/man/face_1313.jpg',\n",
              " '/content/gender_dataset_face/man/face_56.jpg',\n",
              " '/content/gender_dataset_face/man/face_1262.jpg',\n",
              " '/content/gender_dataset_face/man/face_339.jpg',\n",
              " '/content/gender_dataset_face/man/face_866.jpg',\n",
              " '/content/gender_dataset_face/man/face_414.jpg',\n",
              " '/content/gender_dataset_face/man/face_655.jpg',\n",
              " '/content/gender_dataset_face/man/face_310.jpg',\n",
              " '/content/gender_dataset_face/man/face_1419.jpg',\n",
              " '/content/gender_dataset_face/man/face_876.jpg',\n",
              " '/content/gender_dataset_face/man/face_10.jpg',\n",
              " '/content/gender_dataset_face/man/face_1222.jpg',\n",
              " '/content/gender_dataset_face/man/face_1069.jpg',\n",
              " '/content/gender_dataset_face/man/face_860.jpg',\n",
              " '/content/gender_dataset_face/man/face_317.jpg',\n",
              " '/content/gender_dataset_face/man/face_1055.jpg',\n",
              " '/content/gender_dataset_face/man/face_871.jpg',\n",
              " '/content/gender_dataset_face/man/face_1193.jpg',\n",
              " '/content/gender_dataset_face/man/face_1387.jpg',\n",
              " '/content/gender_dataset_face/man/face_1265.jpg',\n",
              " '/content/gender_dataset_face/man/face_20.jpg',\n",
              " '/content/gender_dataset_face/man/face_1207.jpg',\n",
              " '/content/gender_dataset_face/man/face_1527.jpg',\n",
              " '/content/gender_dataset_face/man/face_1439.jpg',\n",
              " '/content/gender_dataset_face/man/face_833.jpg',\n",
              " '/content/gender_dataset_face/man/face_761.jpg',\n",
              " '/content/gender_dataset_face/man/face_1238.jpg',\n",
              " '/content/gender_dataset_face/man/face_802.jpg',\n",
              " '/content/gender_dataset_face/man/face_702.jpg',\n",
              " '/content/gender_dataset_face/man/face_903.jpg',\n",
              " '/content/gender_dataset_face/man/face_924.jpg',\n",
              " '/content/gender_dataset_face/man/face_17.jpg',\n",
              " '/content/gender_dataset_face/man/face_617.jpg',\n",
              " '/content/gender_dataset_face/man/face_1176.jpg',\n",
              " '/content/gender_dataset_face/man/face_1395.jpg',\n",
              " '/content/gender_dataset_face/man/face_1156.jpg',\n",
              " '/content/gender_dataset_face/man/face_1198.jpg',\n",
              " '/content/gender_dataset_face/man/face_421.jpg',\n",
              " '/content/gender_dataset_face/man/face_434.jpg',\n",
              " '/content/gender_dataset_face/man/face_236.jpg',\n",
              " '/content/gender_dataset_face/man/face_1417.jpg',\n",
              " '/content/gender_dataset_face/man/face_853.jpg',\n",
              " '/content/gender_dataset_face/man/face_705.jpg',\n",
              " '/content/gender_dataset_face/man/face_755.jpg',\n",
              " '/content/gender_dataset_face/man/face_992.jpg',\n",
              " '/content/gender_dataset_face/man/face_403.jpg',\n",
              " '/content/gender_dataset_face/man/face_53.jpg',\n",
              " '/content/gender_dataset_face/man/face_685.jpg',\n",
              " '/content/gender_dataset_face/man/face_1290.jpg',\n",
              " '/content/gender_dataset_face/man/face_637.jpg',\n",
              " '/content/gender_dataset_face/man/face_1202.jpg',\n",
              " '/content/gender_dataset_face/man/face_1088.jpg',\n",
              " '/content/gender_dataset_face/man/face_38.jpg',\n",
              " '/content/gender_dataset_face/man/face_1327.jpg',\n",
              " '/content/gender_dataset_face/man/face_1425.jpg',\n",
              " '/content/gender_dataset_face/man/face_146.jpg',\n",
              " '/content/gender_dataset_face/man/face_938.jpg',\n",
              " '/content/gender_dataset_face/man/face_1460.jpg',\n",
              " '/content/gender_dataset_face/man/face_1146.jpg',\n",
              " '/content/gender_dataset_face/man/face_1455.jpg',\n",
              " '/content/gender_dataset_face/man/face_78.jpg',\n",
              " '/content/gender_dataset_face/man/face_6.jpg',\n",
              " '/content/gender_dataset_face/man/face_674.jpg',\n",
              " '/content/gender_dataset_face/man/face_819.jpg',\n",
              " '/content/gender_dataset_face/man/face_898.jpg',\n",
              " '/content/gender_dataset_face/man/face_1210.jpg',\n",
              " '/content/gender_dataset_face/man/face_782.jpg',\n",
              " '/content/gender_dataset_face/man/face_286.jpg',\n",
              " '/content/gender_dataset_face/man/face_1287.jpg',\n",
              " '/content/gender_dataset_face/man/face_1309.jpg',\n",
              " '/content/gender_dataset_face/man/face_700.jpg',\n",
              " '/content/gender_dataset_face/man/face_123.jpg',\n",
              " '/content/gender_dataset_face/man/face_1389.jpg',\n",
              " '/content/gender_dataset_face/man/face_1157.jpg',\n",
              " '/content/gender_dataset_face/man/face_140.jpg',\n",
              " '/content/gender_dataset_face/man/face_1276.jpg',\n",
              " '/content/gender_dataset_face/man/face_784.jpg',\n",
              " '/content/gender_dataset_face/man/face_1328.jpg',\n",
              " '/content/gender_dataset_face/man/face_783.jpg',\n",
              " '/content/gender_dataset_face/man/face_1493.jpg',\n",
              " '/content/gender_dataset_face/man/face_760.jpg',\n",
              " '/content/gender_dataset_face/man/face_1011.jpg',\n",
              " '/content/gender_dataset_face/man/face_1007.jpg',\n",
              " '/content/gender_dataset_face/man/face_366.jpg',\n",
              " '/content/gender_dataset_face/man/face_163.jpg',\n",
              " '/content/gender_dataset_face/man/face_1022.jpg',\n",
              " '/content/gender_dataset_face/man/face_554.jpg',\n",
              " '/content/gender_dataset_face/man/face_1440.jpg',\n",
              " '/content/gender_dataset_face/man/face_679.jpg',\n",
              " '/content/gender_dataset_face/man/face_1208.jpg',\n",
              " '/content/gender_dataset_face/man/face_892.jpg',\n",
              " '/content/gender_dataset_face/man/face_543.jpg',\n",
              " '/content/gender_dataset_face/man/face_1458.jpg',\n",
              " '/content/gender_dataset_face/man/face_1331.jpg',\n",
              " '/content/gender_dataset_face/man/face_758.jpg',\n",
              " '/content/gender_dataset_face/man/face_283.jpg',\n",
              " '/content/gender_dataset_face/man/face_1212.jpg',\n",
              " '/content/gender_dataset_face/man/face_695.jpg',\n",
              " '/content/gender_dataset_face/man/face_574.jpg',\n",
              " '/content/gender_dataset_face/man/face_690.jpg',\n",
              " '/content/gender_dataset_face/man/face_459.jpg',\n",
              " '/content/gender_dataset_face/man/face_967.jpg',\n",
              " '/content/gender_dataset_face/man/face_318.jpg',\n",
              " '/content/gender_dataset_face/man/face_303.jpg',\n",
              " '/content/gender_dataset_face/man/face_861.jpg',\n",
              " '/content/gender_dataset_face/man/face_346.jpg',\n",
              " '/content/gender_dataset_face/man/face_1263.jpg',\n",
              " '/content/gender_dataset_face/man/face_1034.jpg',\n",
              " '/content/gender_dataset_face/man/face_21.jpg',\n",
              " '/content/gender_dataset_face/man/face_1233.jpg',\n",
              " '/content/gender_dataset_face/man/face_1170.jpg',\n",
              " '/content/gender_dataset_face/man/face_1525.jpg',\n",
              " '/content/gender_dataset_face/man/face_217.jpg',\n",
              " '/content/gender_dataset_face/man/face_141.jpg',\n",
              " '/content/gender_dataset_face/man/face_7.jpg',\n",
              " '/content/gender_dataset_face/man/face_560.jpg',\n",
              " '/content/gender_dataset_face/man/face_110.jpg',\n",
              " '/content/gender_dataset_face/man/face_1445.jpg',\n",
              " '/content/gender_dataset_face/man/face_480.jpg',\n",
              " '/content/gender_dataset_face/man/face_641.jpg',\n",
              " '/content/gender_dataset_face/man/face_33.jpg',\n",
              " '/content/gender_dataset_face/man/face_218.jpg',\n",
              " '/content/gender_dataset_face/man/face_1005.jpg',\n",
              " '/content/gender_dataset_face/man/face_1466.jpg',\n",
              " '/content/gender_dataset_face/man/face_752.jpg',\n",
              " '/content/gender_dataset_face/man/face_710.jpg',\n",
              " '/content/gender_dataset_face/man/face_1232.jpg',\n",
              " '/content/gender_dataset_face/man/face_494.jpg',\n",
              " '/content/gender_dataset_face/man/face_1192.jpg',\n",
              " '/content/gender_dataset_face/man/face_1375.jpg',\n",
              " '/content/gender_dataset_face/man/face_251.jpg',\n",
              " '/content/gender_dataset_face/man/face_363.jpg',\n",
              " '/content/gender_dataset_face/man/face_1314.jpg',\n",
              " '/content/gender_dataset_face/man/face_348.jpg',\n",
              " '/content/gender_dataset_face/man/face_178.jpg',\n",
              " '/content/gender_dataset_face/man/face_1366.jpg',\n",
              " '/content/gender_dataset_face/man/face_911.jpg',\n",
              " '/content/gender_dataset_face/man/face_603.jpg',\n",
              " '/content/gender_dataset_face/man/face_1229.jpg',\n",
              " '/content/gender_dataset_face/man/face_1255.jpg',\n",
              " '/content/gender_dataset_face/man/face_1382.jpg',\n",
              " '/content/gender_dataset_face/man/face_759.jpg',\n",
              " '/content/gender_dataset_face/man/face_1113.jpg',\n",
              " '/content/gender_dataset_face/man/face_937.jpg',\n",
              " '/content/gender_dataset_face/man/face_901.jpg',\n",
              " '/content/gender_dataset_face/man/face_1025.jpg',\n",
              " '/content/gender_dataset_face/man/face_246.jpg',\n",
              " '/content/gender_dataset_face/man/face_1001.jpg',\n",
              " '/content/gender_dataset_face/man/face_204.jpg',\n",
              " '/content/gender_dataset_face/man/face_248.jpg',\n",
              " '/content/gender_dataset_face/man/face_763.jpg',\n",
              " '/content/gender_dataset_face/man/face_578.jpg',\n",
              " '/content/gender_dataset_face/man/face_1260.jpg',\n",
              " '/content/gender_dataset_face/man/face_245.jpg',\n",
              " '/content/gender_dataset_face/man/face_39.jpg',\n",
              " '/content/gender_dataset_face/man/face_98.jpg',\n",
              " '/content/gender_dataset_face/man/face_709.jpg',\n",
              " '/content/gender_dataset_face/man/face_596.jpg',\n",
              " '/content/gender_dataset_face/man/face_849.jpg',\n",
              " '/content/gender_dataset_face/man/face_1394.jpg',\n",
              " '/content/gender_dataset_face/man/face_1300.jpg',\n",
              " '/content/gender_dataset_face/man/face_47.jpg',\n",
              " '/content/gender_dataset_face/man/face_838.jpg',\n",
              " '/content/gender_dataset_face/man/face_443.jpg',\n",
              " '/content/gender_dataset_face/man/face_1481.jpg',\n",
              " '/content/gender_dataset_face/man/face_80.jpg',\n",
              " '/content/gender_dataset_face/man/face_716.jpg',\n",
              " '/content/gender_dataset_face/man/face_1520.jpg',\n",
              " '/content/gender_dataset_face/man/face_260.jpg',\n",
              " '/content/gender_dataset_face/man/face_951.jpg',\n",
              " '/content/gender_dataset_face/man/face_273.jpg',\n",
              " '/content/gender_dataset_face/man/face_147.jpg',\n",
              " '/content/gender_dataset_face/man/face_1516.jpg',\n",
              " '/content/gender_dataset_face/man/face_818.jpg',\n",
              " '/content/gender_dataset_face/man/face_157.jpg',\n",
              " '/content/gender_dataset_face/man/face_564.jpg',\n",
              " '/content/gender_dataset_face/man/face_620.jpg',\n",
              " '/content/gender_dataset_face/man/face_284.jpg',\n",
              " '/content/gender_dataset_face/man/face_534.jpg',\n",
              " '/content/gender_dataset_face/man/face_144.jpg',\n",
              " '/content/gender_dataset_face/man/face_787.jpg',\n",
              " '/content/gender_dataset_face/man/face_551.jpg',\n",
              " '/content/gender_dataset_face/man/face_1363.jpg',\n",
              " '/content/gender_dataset_face/man/face_817.jpg',\n",
              " '/content/gender_dataset_face/man/face_954.jpg',\n",
              " '/content/gender_dataset_face/man/face_502.jpg',\n",
              " '/content/gender_dataset_face/man/face_1505.jpg',\n",
              " '/content/gender_dataset_face/man/face_518.jpg',\n",
              " '/content/gender_dataset_face/man/face_1269.jpg',\n",
              " '/content/gender_dataset_face/man/face_774.jpg',\n",
              " ...]"
            ]
          },
          "metadata": {},
          "execution_count": 21
        }
      ]
    },
    {
      "cell_type": "code",
      "source": [
        "random.shuffle(image_files)"
      ],
      "metadata": {
        "id": "lfPyLNqmRtBD"
      },
      "execution_count": 22,
      "outputs": []
    },
    {
      "cell_type": "code",
      "source": [
        "img_dimension=(100,100,3)\n",
        "data=[]\n",
        "labels=[]"
      ],
      "metadata": {
        "id": "0W1B-QCiR56E"
      },
      "execution_count": 23,
      "outputs": []
    },
    {
      "cell_type": "code",
      "source": [
        "for img in image_files:\n",
        "  image=cv2.imread(img)\n",
        "  image=cv2.resize(image,(img_dimension[0],img_dimension[1]))\n",
        "  image=img_to_array(image)\n",
        "  data.append(image)\n",
        "  label=img.split(os.path.sep)[-2]\n",
        "  if label==\"woman\":\n",
        "    label=1\n",
        "  else:\n",
        "    label=0\n",
        "  labels.append([label])\n",
        "\n",
        "\n"
      ],
      "metadata": {
        "id": "nQQP6NGvR06A"
      },
      "execution_count": 24,
      "outputs": []
    },
    {
      "cell_type": "code",
      "source": [
        "print(labels)"
      ],
      "metadata": {
        "colab": {
          "base_uri": "https://localhost:8080/"
        },
        "id": "oRNTbclJJcFE",
        "outputId": "9efcac77-d87c-40e8-f152-08047130a3fd"
      },
      "execution_count": 25,
      "outputs": [
        {
          "output_type": "stream",
          "name": "stdout",
          "text": [
            "[[1], [1], [0], [1], [1], [0], [0], [1], [1], [1], [0], [1], [1], [1], [1], [1], [0], [0], [1], [0], [1], [1], [0], [0], [1], [1], [1], [1], [0], [1], [0], [1], [0], [1], [0], [1], [1], [0], [1], [1], [0], [0], [0], [1], [1], [1], [1], [0], [1], [1], [0], [0], [1], [0], [0], [1], [0], [1], [0], [1], [0], [1], [0], [1], [0], [0], [1], [1], [0], [0], [1], [0], [1], [1], [0], [0], [1], [1], [1], [0], [1], [1], [1], [0], [1], [1], [1], [1], [0], [0], [1], [0], [0], [0], [0], [1], [1], [0], [1], [0], [1], [1], [1], [1], [1], [0], [1], [1], [0], [0], [0], [0], [1], [1], [1], [0], [0], [1], [0], [1], [1], [1], [0], [1], [1], [0], [0], [0], [0], [0], [1], [0], [0], [0], [1], [1], [0], [0], [1], [0], [1], [1], [0], [1], [0], [0], [0], [0], [0], [1], [0], [1], [0], [0], [1], [0], [0], [0], [0], [0], [0], [0], [0], [0], [1], [0], [0], [0], [1], [1], [1], [1], [1], [0], [0], [0], [1], [0], [1], [0], [1], [0], [1], [1], [0], [1], [0], [0], [1], [0], [1], [1], [0], [0], [0], [1], [1], [0], [1], [0], [1], [1], [0], [0], [0], [1], [1], [1], [0], [0], [0], [1], [1], [0], [0], [1], [1], [0], [0], [1], [1], [1], [1], [0], [0], [0], [1], [1], [0], [0], [0], [0], [1], [0], [0], [0], [1], [0], [0], [1], [0], [1], [1], [0], [0], [1], [1], [0], [0], [1], [0], [0], [0], [1], [1], [1], [0], [0], [1], [1], [0], [0], [0], [0], [1], [0], [1], [0], [0], [1], [0], [1], [1], [1], [0], [0], [0], [0], [0], [0], [1], [0], [1], [0], [1], [1], [1], [0], [0], [1], [1], [1], [1], [0], [0], [0], [0], [1], [0], [0], [0], [1], [1], [1], [1], [0], [1], [0], [1], [0], [0], [1], [0], [0], [1], [1], [1], [0], [1], [0], [0], [1], [1], [1], [1], [0], [1], [0], [1], [1], [1], [1], [0], [1], [0], [1], [0], [0], [0], [1], [0], [1], [1], [0], [0], [0], [1], [1], [0], [0], [0], [1], [0], [0], [0], [0], [0], [0], [0], [1], [0], [0], [0], [0], [0], [1], [0], [1], [1], [0], [0], [1], [0], [1], [0], [1], [1], [0], [0], [1], [0], [1], [1], [1], [1], [1], [1], [1], [0], [1], [1], [1], [0], [1], [1], [1], [1], [0], [0], [0], [0], [1], [0], [0], [0], [1], [0], [1], [0], [1], [0], [1], [1], [0], [0], [0], [0], [1], [0], [1], [1], [1], [0], [0], [1], [0], [0], [1], [0], [1], [1], [1], [0], [0], [0], [0], [0], [1], [1], [1], [0], [1], [1], [0], [1], [0], [1], [1], [0], [1], [0], [1], [0], [1], [1], [1], [1], [1], [1], [0], [0], [1], [0], [0], [1], [1], [1], [1], [1], [0], [0], [0], [1], [0], [0], [0], [0], [1], [1], [1], [0], [1], [1], [1], [0], [0], [0], [0], [0], [0], [0], [1], [0], [0], [0], [0], [0], [0], [0], [0], [1], [1], [1], [1], [1], [1], [0], [1], [1], [1], [0], [1], [1], [0], [0], [1], [0], [1], [1], [0], [1], [0], [0], [1], [1], [0], [1], [0], [0], [1], [0], [0], [1], [1], [0], [0], [1], [0], [0], [1], [0], [0], [1], [1], [1], [0], [0], [1], [0], [1], [1], [1], [1], [1], [0], [1], [0], [1], [0], [0], [1], [0], [1], [0], [0], [0], [0], [0], [1], [1], [0], [0], [0], [0], [0], [0], [0], [0], [1], [0], [1], [0], [0], [0], [1], [0], [0], [1], [1], [1], [1], [1], [0], [1], [0], [0], [1], [1], [1], [1], [1], [1], [1], [1], [1], [1], [0], [0], [0], [1], [0], [0], [0], [1], [1], [1], [1], [1], [1], [1], [1], [0], [0], [0], [0], [0], [0], [1], [1], [0], [0], [1], [0], [1], [1], [0], [0], [0], [1], [0], [0], [1], [0], [1], [1], [0], [0], [1], [0], [1], [1], [0], [0], [1], [0], [0], [0], [0], [1], [1], [0], [0], [1], [0], [0], [1], [0], [0], [0], [1], [0], [1], [0], [1], [1], [1], [1], [0], [1], [0], [1], [0], [1], [1], [1], [1], [1], [1], [0], [1], [1], [0], [1], [0], [0], [1], [1], [1], [0], [1], [1], [0], [1], [1], [0], [1], [1], [0], [1], [1], [0], [1], [0], [0], [1], [1], [1], [1], [1], [0], [1], [0], [0], [1], [1], [0], [0], [1], [1], [1], [1], [0], [0], [1], [1], [0], [0], [1], [0], [1], [1], [1], [0], [1], [0], [1], [0], [1], [0], [1], [1], [1], [0], [1], [0], [0], [0], [0], [1], [1], [1], [0], [1], [1], [1], [0], [1], [1], [1], [1], [1], [1], [1], [0], [1], [0], [1], [0], [0], [1], [0], [0], [1], [1], [0], [0], [1], [0], [1], [1], [1], [1], [1], [0], [1], [1], [0], [0], [1], [0], [0], [1], [1], [0], [0], [0], [0], [0], [0], [1], [1], [0], [1], [1], [0], [1], [0], [1], [0], [0], [1], [1], [0], [0], [1], [1], [0], [0], [0], [1], [0], [0], [0], [1], [0], [0], [0], [1], [1], [1], [1], [0], [0], [1], [1], [1], [0], [1], [0], [1], [0], [1], [0], [1], [0], [1], [1], [1], [0], [0], [1], [1], [1], [1], [0], [1], [0], [0], [0], [0], [1], [0], [0], [1], [1], [0], [1], [0], [0], [1], [0], [0], [0], [0], [1], [1], [0], [0], [0], [1], [1], [0], [0], [1], [0], [1], [1], [0], [0], [0], [1], [1], [0], [1], [1], [1], [0], [1], [1], [0], [0], [1], [0], [1], [1], [1], [0], [1], [1], [1], [1], [0], [1], [0], [0], [1], [1], [1], [1], [0], [1], [0], [1], [1], [1], [1], [1], [1], [1], [1], [1], [1], [0], [1], [1], [1], [0], [0], [1], [0], [0], [1], [0], [1], [1], [1], [0], [1], [0], [1], [0], [1], [1], [1], [0], [1], [1], [0], [0], [1], [1], [1], [0], [1], [1], [0], [0], [1], [1], [1], [1], [1], [0], [1], [0], [0], [1], [0], [0], [1], [0], [0], [0], [1], [0], [0], [0], [1], [1], [1], [1], [1], [0], [1], [1], [1], [0], [0], [0], [0], [1], [0], [0], [1], [1], [0], [1], [0], [1], [0], [0], [0], [0], [1], [1], [1], [0], [1], [1], [0], [0], [1], [0], [0], [1], [1], [0], [0], [0], [1], [1], [0], [0], [1], [1], [1], [0], [1], [0], [0], [1], [1], [0], [1], [0], [0], [1], [0], [1], [1], [0], [0], [1], [0], [0], [0], [0], [0], [0], [0], [1], [0], [0], [0], [0], [1], [0], [0], [1], [1], [1], [0], [0], [1], [0], [0], [1], [0], [1], [0], [0], [0], [1], [0], [0], [0], [0], [0], [1], [1], [0], [0], [1], [0], [1], [0], [0], [0], [0], [1], [1], [1], [0], [0], [1], [1], [1], [0], [1], [1], [0], [1], [1], [0], [1], [0], [0], [1], [0], [0], [0], [1], [0], [0], [0], [1], [0], [0], [1], [0], [1], [1], [1], [0], [1], [0], [0], [1], [0], [1], [1], [0], [0], [1], [1], [1], [1], [0], [1], [1], [0], [1], [1], [0], [0], [0], [1], [1], [0], [0], [0], [0], [1], [0], [0], [0], [0], [1], [0], [0], [0], [1], [0], [0], [0], [1], [1], [0], [0], [0], [1], [0], [0], [0], [1], [0], [1], [0], [0], [1], [0], [0], [1], [0], [0], [0], [1], [1], [0], [0], [0], [1], [1], [1], [0], [0], [0], [0], [0], [0], [0], [0], [1], [1], [0], [1], [0], [1], [0], [0], [1], [0], [0], [1], [0], [0], [0], [1], [0], [0], [0], [0], [1], [1], [1], [0], [0], [0], [1], [0], [0], [0], [0], [0], [1], [0], [1], [1], [0], [0], [0], [1], [0], [0], [0], [0], [0], [1], [1], [0], [0], [1], [0], [0], [1], [1], [0], [0], [0], [0], [0], [0], [1], [1], [0], [1], [0], [1], [1], [1], [1], [0], [1], [0], [1], [1], [0], [1], [1], [1], [0], [1], [1], [1], [0], [0], [0], [0], [1], [1], [0], [0], [1], [1], [1], [0], [1], [0], [0], [1], [1], [1], [0], [0], [1], [0], [1], [1], [1], [1], [1], [0], [0], [1], [0], [1], [1], [1], [1], [0], [0], [1], [0], [0], [0], [0], [0], [0], [0], [0], [0], [1], [1], [0], [1], [0], [1], [0], [1], [0], [0], [0], [0], [0], [1], [0], [0], [0], [0], [1], [1], [0], [1], [1], [1], [1], [1], [1], [1], [1], [0], [1], [0], [0], [1], [1], [1], [0], [1], [1], [0], [0], [0], [0], [1], [1], [1], [1], [1], [1], [0], [1], [1], [0], [1], [0], [1], [0], [1], [0], [0], [0], [0], [0], [0], [0], [1], [0], [0], [0], [1], [1], [1], [0], [1], [0], [1], [0], [0], [0], [1], [1], [1], [1], [0], [1], [1], [0], [0], [0], [1], [1], [1], [0], [1], [1], [1], [1], [0], [1], [0], [0], [0], [1], [1], [1], [0], [0], [1], [0], [1], [1], [1], [1], [1], [0], [0], [1], [0], [1], [0], [0], [1], [0], [0], [1], [0], [1], [0], [1], [1], [0], [0], [1], [1], [0], [1], [1], [0], [0], [0], [0], [0], [1], [1], [0], [0], [1], [0], [0], [1], [0], [1], [1], [0], [0], [1], [0], [1], [1], [1], [1], [0], [0], [1], [1], [0], [1], [1], [1], [1], [0], [0], [0], [0], [1], [0], [1], [1], [1], [0], [0], [0], [0], [1], [1], [0], [1], [0], [1], [0], [1], [0], [0], [0], [1], [1], [1], [0], [1], [0], [0], [0], [1], [1], [0], [0], [0], [0], [0], [1], [1], [0], [0], [1], [0], [1], [0], [1], [1], [1], [0], [0], [1], [0], [1], [1], [1], [1], [1], [0], [0], [1], [0], [0], [1], [0], [0], [1], [0], [1], [0], [1], [1], [0], [1], [1], [1], [0], [0], [0], [0], [0], [1], [1], [1], [1], [1], [1], [0], [1], [1], [1], [0], [0], [0], [1], [1], [0], [0], [1], [0], [0], [1], [1], [0], [0], [0], [1], [1], [0], [1], [1], [0], [0], [1], [0], [0], [0], [1], [1], [0], [0], [0], [1], [0], [1], [0], [1], [0], [1], [1], [1], [0], [1], [1], [0], [1], [1], [0], [0], [1], [0], [0], [0], [0], [0], [0], [0], [0], [1], [1], [0], [0], [1], [0], [1], [1], [0], [0], [1], [0], [1], [0], [1], [0], [1], [0], [0], [0], [0], [0], [1], [1], [0], [1], [1], [0], [1], [1], [1], [0], [1], [1], [0], [1], [0], [1], [1], [0], [0], [1], [1], [1], [1], [0], [1], [1], [0], [0], [1], [1], [0], [1], [0], [0], [0], [1], [0], [1], [0], [1], [1], [1], [1], [1], [0], [1], [1], [1], [0], [0], [0], [0], [1], [0], [1], [1], [1], [1], [0], [1], [1], [0], [0], [0], [0], [0], [0], [0], [0], [0], [0], [0], [0], [0], [1], [0], [1], [0], [1], [0], [0], [1], [1], [0], [1], [1], [1], [0], [1], [1], [1], [1], [0], [1], [1], [1], [0], [0], [1], [1], [1], [1], [1], [0], [1], [0], [0], [1], [0], [1], [0], [1], [0], [1], [0], [1], [0], [1], [0], [1], [1], [0], [1], [1], [1], [0], [1], [1], [0], [1], [1], [1], [0], [0], [0], [0], [0], [0], [0], [0], [1], [1], [1], [1], [1], [1], [1], [1], [0], [0], [1], [1], [0], [1], [1], [1], [0], [0], [0], [0], [1], [0], [0], [1], [1], [0], [1], [0], [0], [0], [1], [1], [1], [1], [1], [0], [0], [0], [0], [1], [0], [0], [0], [1], [1], [0], [0], [0], [0], [0], [0], [0], [1], [1], [1], [0], [1], [0], [0], [0], [1], [0], [1], [0], [0], [1], [1], [1], [1], [1], [1], [0], [1], [1], [0], [1], [1], [1], [1], [1], [1], [1], [0], [1], [1], [1], [1], [0], [0], [0], [1], [1], [1], [0], [1], [0], [1], [1], [0], [0], [1], [1], [0], [1], [0], [0], [0], [0], [1], [1], [1], [0], [1], [1], [1], [0], [0], [0], [0], [1], [1], [0], [1], [1], [1], [1], [0], [1], [0], [0], [0], [0], [0], [0], [1], [0], [1], [0], [1], [0], [0], [0], [1], [0], [0], [1], [0], [1], [1], [1], [0], [0], [0], [1], [1], [1], [1], [0], [0], [0], [0], [0], [0], [1], [0], [0], [0], [0], [0], [0], [0], [1], [1], [0], [1], [1], [0], [1], [0], [1], [0], [0], [1], [1], [1], [0], [1], [0], [0], [0], [0], [0], [0], [1], [0], [1], [0], [0], [1], [0], [0], [0], [0], [0], [0], [1], [0], [1], [0], [1], [1], [0], [1], [1], [0], [0], [1], [1], [0], [0], [0], [0], [0], [1], [1], [1], [0], [0], [0], [1], [0], [1], [0], [1], [0], [0], [1], [0], [1], [1], [0], [1], [1], [1], [0], [1], [1], [1], [1], [0], [1], [1], [0], [0], [1], [1], [1], [0], [1], [0], [1], [1], [1], [0], [0], [1], [0], [0], [1], [0], [0], [0], [1], [0], [0], [0], [0], [0], [1], [1], [1], [0], [0], [1], [1], [1], [0], [1], [0], [1], [0], [0], [0], [1], [1], [0], [0], [1], [0], [1], [1], [1], [0], [0], [1], [1], [1], [0], [1], [0], [0], [0], [0], [0], [0], [1], [0], [0], [1], [0], [1], [0], [0], [0], [0], [0], [1], [0], [0], [1], [0], [0], [1], [0], [0], [1], [0], [0], [0], [0], [0], [0], [1], [0], [0], [0], [1], [1], [0], [0], [1], [0], [0], [1], [1], [1], [0], [0], [1], [1], [1], [1], [0], [0], [1], [1], [0], [1], [1], [1], [1], [1], [1], [1], [0], [0], [1], [1], [1], [0], [1], [1], [0], [1], [0], [1], [0], [0], [1], [1], [1], [1], [1], [0], [1], [1], [0], [1], [1], [1], [0], [1], [1], [0], [1], [0], [1], [1], [0], [1], [1], [0], [0], [0], [0], [1], [0], [0], [0], [1], [0], [1], [1], [1], [0], [1], [0], [1], [1], [0], [0], [0], [0], [0], [0], [1], [0], [1], [0], [1], [0], [0], [1], [0], [0], [0], [0], [1], [0], [0], [0], [1], [1], [0], [0], [1], [0], [1], [0], [0], [0], [1], [1], [0], [0], [1], [1], [1], [1], [1], [0], [1], [1], [0], [1]]\n"
          ]
        }
      ]
    },
    {
      "cell_type": "code",
      "source": [
        "data=np.array(data,dtype='float')\n",
        "labels=np.array(labels)"
      ],
      "metadata": {
        "id": "Cl5H9HVKS0Pv"
      },
      "execution_count": 26,
      "outputs": []
    },
    {
      "cell_type": "code",
      "source": [
        "X_train, X_test, y_train, y_test= train_test_split(data,labels,test_size=0.2,random_state=42)"
      ],
      "metadata": {
        "id": "ljvGJ1EHTADE"
      },
      "execution_count": 27,
      "outputs": []
    },
    {
      "cell_type": "code",
      "source": [
        "X_train[1]"
      ],
      "metadata": {
        "colab": {
          "base_uri": "https://localhost:8080/"
        },
        "id": "tFuCTGHvTVYd",
        "outputId": "c0e8da15-8d9e-4297-c7a7-73194ba53164"
      },
      "execution_count": 28,
      "outputs": [
        {
          "output_type": "execute_result",
          "data": {
            "text/plain": [
              "array([[[ 37.,  37.,  43.],\n",
              "        [ 37.,  37.,  43.],\n",
              "        [ 38.,  38.,  44.],\n",
              "        ...,\n",
              "        [233., 241., 241.],\n",
              "        [233., 241., 240.],\n",
              "        [233., 241., 240.]],\n",
              "\n",
              "       [[ 41.,  39.,  46.],\n",
              "        [ 39.,  38.,  45.],\n",
              "        [ 37.,  36.,  42.],\n",
              "        ...,\n",
              "        [233., 241., 240.],\n",
              "        [233., 241., 240.],\n",
              "        [233., 241., 240.]],\n",
              "\n",
              "       [[ 45.,  42.,  51.],\n",
              "        [ 41.,  39.,  47.],\n",
              "        [ 35.,  32.,  39.],\n",
              "        ...,\n",
              "        [233., 241., 240.],\n",
              "        [233., 241., 240.],\n",
              "        [233., 241., 240.]],\n",
              "\n",
              "       ...,\n",
              "\n",
              "       [[ 90.,  92., 127.],\n",
              "        [ 86.,  88., 122.],\n",
              "        [ 77.,  80., 112.],\n",
              "        ...,\n",
              "        [ 94., 106., 134.],\n",
              "        [116., 128., 156.],\n",
              "        [127., 139., 167.]],\n",
              "\n",
              "       [[ 86.,  88., 125.],\n",
              "        [ 83.,  86., 121.],\n",
              "        [ 78.,  82., 115.],\n",
              "        ...,\n",
              "        [ 94., 107., 134.],\n",
              "        [106., 119., 146.],\n",
              "        [112., 124., 151.]],\n",
              "\n",
              "       [[ 82.,  85., 123.],\n",
              "        [ 81.,  84., 121.],\n",
              "        [ 78.,  83., 117.],\n",
              "        ...,\n",
              "        [ 95., 108., 135.],\n",
              "        [ 98., 111., 138.],\n",
              "        [100., 113., 139.]]])"
            ]
          },
          "metadata": {},
          "execution_count": 28
        }
      ]
    },
    {
      "cell_type": "code",
      "source": [
        "y_train=to_categorical(y_train,num_classes=2)\n",
        "y_test=to_categorical(y_test,num_classes=2)"
      ],
      "metadata": {
        "id": "vv7ReR1STXNG"
      },
      "execution_count": 29,
      "outputs": []
    },
    {
      "cell_type": "code",
      "source": [
        "print(y_train[1])"
      ],
      "metadata": {
        "colab": {
          "base_uri": "https://localhost:8080/"
        },
        "id": "arI9cQi91f62",
        "outputId": "914232db-370c-45ac-b92c-38169c0bf1ce"
      },
      "execution_count": 43,
      "outputs": [
        {
          "output_type": "stream",
          "name": "stdout",
          "text": [
            "[0. 1.]\n"
          ]
        }
      ]
    },
    {
      "cell_type": "code",
      "source": [
        "augmented_data=ImageDataGenerator(rotation_range=25,width_shift_range=0.1,height_shift_range=0.1,shear_range=0.2,zoom_range=0.2,horizontal_flip=True,fill_mode='nearest')\n"
      ],
      "metadata": {
        "id": "Vrv7F6RUVLYY"
      },
      "execution_count": 30,
      "outputs": []
    },
    {
      "cell_type": "code",
      "source": [
        "vgg16=VGG16(input_shape=(100,100,3),weights='imagenet',include_top=False)"
      ],
      "metadata": {
        "id": "VBeN3b3vVSkh",
        "colab": {
          "base_uri": "https://localhost:8080/"
        },
        "outputId": "d08c9089-4b4e-4d8f-84db-45fb811b7336"
      },
      "execution_count": 31,
      "outputs": [
        {
          "output_type": "stream",
          "name": "stdout",
          "text": [
            "Downloading data from https://storage.googleapis.com/tensorflow/keras-applications/vgg16/vgg16_weights_tf_dim_ordering_tf_kernels_notop.h5\n",
            "\u001b[1m58889256/58889256\u001b[0m \u001b[32m━━━━━━━━━━━━━━━━━━━━\u001b[0m\u001b[37m\u001b[0m \u001b[1m0s\u001b[0m 0us/step\n"
          ]
        }
      ]
    },
    {
      "cell_type": "code",
      "source": [
        "for layers in vgg16.layers:\n",
        "  layers.trainable=False"
      ],
      "metadata": {
        "id": "5m_dD4tBVqyJ"
      },
      "execution_count": 32,
      "outputs": []
    },
    {
      "cell_type": "code",
      "source": [
        "x=Flatten()(vgg16.output)"
      ],
      "metadata": {
        "id": "Mndl5F3sV6Kb"
      },
      "execution_count": 33,
      "outputs": []
    },
    {
      "cell_type": "code",
      "source": [
        "folders=glob.glob('/content/gender_dataset_face/*')"
      ],
      "metadata": {
        "id": "kyTckFvDWDiB"
      },
      "execution_count": 34,
      "outputs": []
    },
    {
      "cell_type": "code",
      "source": [
        "predictions=Dense(len(folders),activation='softmax')(x)"
      ],
      "metadata": {
        "id": "DG6F3a6tWK41"
      },
      "execution_count": 35,
      "outputs": []
    },
    {
      "cell_type": "code",
      "source": [
        "model=Model(inputs=vgg16.input,outputs=predictions)"
      ],
      "metadata": {
        "id": "7r398u5WWYPA"
      },
      "execution_count": 36,
      "outputs": []
    },
    {
      "cell_type": "code",
      "source": [
        "model.summary()"
      ],
      "metadata": {
        "colab": {
          "base_uri": "https://localhost:8080/",
          "height": 801
        },
        "id": "AdIfDJdZXlm0",
        "outputId": "a6e57059-dfbb-4cc5-acae-35659d4ac15a"
      },
      "execution_count": 37,
      "outputs": [
        {
          "output_type": "display_data",
          "data": {
            "text/plain": [
              "\u001b[1mModel: \"functional\"\u001b[0m\n"
            ],
            "text/html": [
              "<pre style=\"white-space:pre;overflow-x:auto;line-height:normal;font-family:Menlo,'DejaVu Sans Mono',consolas,'Courier New',monospace\"><span style=\"font-weight: bold\">Model: \"functional\"</span>\n",
              "</pre>\n"
            ]
          },
          "metadata": {}
        },
        {
          "output_type": "display_data",
          "data": {
            "text/plain": [
              "┏━━━━━━━━━━━━━━━━━━━━━━━━━━━━━━━━━━━━━━┳━━━━━━━━━━━━━━━━━━━━━━━━━━━━━┳━━━━━━━━━━━━━━━━━┓\n",
              "┃\u001b[1m \u001b[0m\u001b[1mLayer (type)                        \u001b[0m\u001b[1m \u001b[0m┃\u001b[1m \u001b[0m\u001b[1mOutput Shape               \u001b[0m\u001b[1m \u001b[0m┃\u001b[1m \u001b[0m\u001b[1m        Param #\u001b[0m\u001b[1m \u001b[0m┃\n",
              "┡━━━━━━━━━━━━━━━━━━━━━━━━━━━━━━━━━━━━━━╇━━━━━━━━━━━━━━━━━━━━━━━━━━━━━╇━━━━━━━━━━━━━━━━━┩\n",
              "│ input_layer (\u001b[38;5;33mInputLayer\u001b[0m)             │ (\u001b[38;5;45mNone\u001b[0m, \u001b[38;5;34m100\u001b[0m, \u001b[38;5;34m100\u001b[0m, \u001b[38;5;34m3\u001b[0m)         │               \u001b[38;5;34m0\u001b[0m │\n",
              "├──────────────────────────────────────┼─────────────────────────────┼─────────────────┤\n",
              "│ block1_conv1 (\u001b[38;5;33mConv2D\u001b[0m)                │ (\u001b[38;5;45mNone\u001b[0m, \u001b[38;5;34m100\u001b[0m, \u001b[38;5;34m100\u001b[0m, \u001b[38;5;34m64\u001b[0m)        │           \u001b[38;5;34m1,792\u001b[0m │\n",
              "├──────────────────────────────────────┼─────────────────────────────┼─────────────────┤\n",
              "│ block1_conv2 (\u001b[38;5;33mConv2D\u001b[0m)                │ (\u001b[38;5;45mNone\u001b[0m, \u001b[38;5;34m100\u001b[0m, \u001b[38;5;34m100\u001b[0m, \u001b[38;5;34m64\u001b[0m)        │          \u001b[38;5;34m36,928\u001b[0m │\n",
              "├──────────────────────────────────────┼─────────────────────────────┼─────────────────┤\n",
              "│ block1_pool (\u001b[38;5;33mMaxPooling2D\u001b[0m)           │ (\u001b[38;5;45mNone\u001b[0m, \u001b[38;5;34m50\u001b[0m, \u001b[38;5;34m50\u001b[0m, \u001b[38;5;34m64\u001b[0m)          │               \u001b[38;5;34m0\u001b[0m │\n",
              "├──────────────────────────────────────┼─────────────────────────────┼─────────────────┤\n",
              "│ block2_conv1 (\u001b[38;5;33mConv2D\u001b[0m)                │ (\u001b[38;5;45mNone\u001b[0m, \u001b[38;5;34m50\u001b[0m, \u001b[38;5;34m50\u001b[0m, \u001b[38;5;34m128\u001b[0m)         │          \u001b[38;5;34m73,856\u001b[0m │\n",
              "├──────────────────────────────────────┼─────────────────────────────┼─────────────────┤\n",
              "│ block2_conv2 (\u001b[38;5;33mConv2D\u001b[0m)                │ (\u001b[38;5;45mNone\u001b[0m, \u001b[38;5;34m50\u001b[0m, \u001b[38;5;34m50\u001b[0m, \u001b[38;5;34m128\u001b[0m)         │         \u001b[38;5;34m147,584\u001b[0m │\n",
              "├──────────────────────────────────────┼─────────────────────────────┼─────────────────┤\n",
              "│ block2_pool (\u001b[38;5;33mMaxPooling2D\u001b[0m)           │ (\u001b[38;5;45mNone\u001b[0m, \u001b[38;5;34m25\u001b[0m, \u001b[38;5;34m25\u001b[0m, \u001b[38;5;34m128\u001b[0m)         │               \u001b[38;5;34m0\u001b[0m │\n",
              "├──────────────────────────────────────┼─────────────────────────────┼─────────────────┤\n",
              "│ block3_conv1 (\u001b[38;5;33mConv2D\u001b[0m)                │ (\u001b[38;5;45mNone\u001b[0m, \u001b[38;5;34m25\u001b[0m, \u001b[38;5;34m25\u001b[0m, \u001b[38;5;34m256\u001b[0m)         │         \u001b[38;5;34m295,168\u001b[0m │\n",
              "├──────────────────────────────────────┼─────────────────────────────┼─────────────────┤\n",
              "│ block3_conv2 (\u001b[38;5;33mConv2D\u001b[0m)                │ (\u001b[38;5;45mNone\u001b[0m, \u001b[38;5;34m25\u001b[0m, \u001b[38;5;34m25\u001b[0m, \u001b[38;5;34m256\u001b[0m)         │         \u001b[38;5;34m590,080\u001b[0m │\n",
              "├──────────────────────────────────────┼─────────────────────────────┼─────────────────┤\n",
              "│ block3_conv3 (\u001b[38;5;33mConv2D\u001b[0m)                │ (\u001b[38;5;45mNone\u001b[0m, \u001b[38;5;34m25\u001b[0m, \u001b[38;5;34m25\u001b[0m, \u001b[38;5;34m256\u001b[0m)         │         \u001b[38;5;34m590,080\u001b[0m │\n",
              "├──────────────────────────────────────┼─────────────────────────────┼─────────────────┤\n",
              "│ block3_pool (\u001b[38;5;33mMaxPooling2D\u001b[0m)           │ (\u001b[38;5;45mNone\u001b[0m, \u001b[38;5;34m12\u001b[0m, \u001b[38;5;34m12\u001b[0m, \u001b[38;5;34m256\u001b[0m)         │               \u001b[38;5;34m0\u001b[0m │\n",
              "├──────────────────────────────────────┼─────────────────────────────┼─────────────────┤\n",
              "│ block4_conv1 (\u001b[38;5;33mConv2D\u001b[0m)                │ (\u001b[38;5;45mNone\u001b[0m, \u001b[38;5;34m12\u001b[0m, \u001b[38;5;34m12\u001b[0m, \u001b[38;5;34m512\u001b[0m)         │       \u001b[38;5;34m1,180,160\u001b[0m │\n",
              "├──────────────────────────────────────┼─────────────────────────────┼─────────────────┤\n",
              "│ block4_conv2 (\u001b[38;5;33mConv2D\u001b[0m)                │ (\u001b[38;5;45mNone\u001b[0m, \u001b[38;5;34m12\u001b[0m, \u001b[38;5;34m12\u001b[0m, \u001b[38;5;34m512\u001b[0m)         │       \u001b[38;5;34m2,359,808\u001b[0m │\n",
              "├──────────────────────────────────────┼─────────────────────────────┼─────────────────┤\n",
              "│ block4_conv3 (\u001b[38;5;33mConv2D\u001b[0m)                │ (\u001b[38;5;45mNone\u001b[0m, \u001b[38;5;34m12\u001b[0m, \u001b[38;5;34m12\u001b[0m, \u001b[38;5;34m512\u001b[0m)         │       \u001b[38;5;34m2,359,808\u001b[0m │\n",
              "├──────────────────────────────────────┼─────────────────────────────┼─────────────────┤\n",
              "│ block4_pool (\u001b[38;5;33mMaxPooling2D\u001b[0m)           │ (\u001b[38;5;45mNone\u001b[0m, \u001b[38;5;34m6\u001b[0m, \u001b[38;5;34m6\u001b[0m, \u001b[38;5;34m512\u001b[0m)           │               \u001b[38;5;34m0\u001b[0m │\n",
              "├──────────────────────────────────────┼─────────────────────────────┼─────────────────┤\n",
              "│ block5_conv1 (\u001b[38;5;33mConv2D\u001b[0m)                │ (\u001b[38;5;45mNone\u001b[0m, \u001b[38;5;34m6\u001b[0m, \u001b[38;5;34m6\u001b[0m, \u001b[38;5;34m512\u001b[0m)           │       \u001b[38;5;34m2,359,808\u001b[0m │\n",
              "├──────────────────────────────────────┼─────────────────────────────┼─────────────────┤\n",
              "│ block5_conv2 (\u001b[38;5;33mConv2D\u001b[0m)                │ (\u001b[38;5;45mNone\u001b[0m, \u001b[38;5;34m6\u001b[0m, \u001b[38;5;34m6\u001b[0m, \u001b[38;5;34m512\u001b[0m)           │       \u001b[38;5;34m2,359,808\u001b[0m │\n",
              "├──────────────────────────────────────┼─────────────────────────────┼─────────────────┤\n",
              "│ block5_conv3 (\u001b[38;5;33mConv2D\u001b[0m)                │ (\u001b[38;5;45mNone\u001b[0m, \u001b[38;5;34m6\u001b[0m, \u001b[38;5;34m6\u001b[0m, \u001b[38;5;34m512\u001b[0m)           │       \u001b[38;5;34m2,359,808\u001b[0m │\n",
              "├──────────────────────────────────────┼─────────────────────────────┼─────────────────┤\n",
              "│ block5_pool (\u001b[38;5;33mMaxPooling2D\u001b[0m)           │ (\u001b[38;5;45mNone\u001b[0m, \u001b[38;5;34m3\u001b[0m, \u001b[38;5;34m3\u001b[0m, \u001b[38;5;34m512\u001b[0m)           │               \u001b[38;5;34m0\u001b[0m │\n",
              "├──────────────────────────────────────┼─────────────────────────────┼─────────────────┤\n",
              "│ flatten (\u001b[38;5;33mFlatten\u001b[0m)                    │ (\u001b[38;5;45mNone\u001b[0m, \u001b[38;5;34m4608\u001b[0m)                │               \u001b[38;5;34m0\u001b[0m │\n",
              "├──────────────────────────────────────┼─────────────────────────────┼─────────────────┤\n",
              "│ dense (\u001b[38;5;33mDense\u001b[0m)                        │ (\u001b[38;5;45mNone\u001b[0m, \u001b[38;5;34m2\u001b[0m)                   │           \u001b[38;5;34m9,218\u001b[0m │\n",
              "└──────────────────────────────────────┴─────────────────────────────┴─────────────────┘\n"
            ],
            "text/html": [
              "<pre style=\"white-space:pre;overflow-x:auto;line-height:normal;font-family:Menlo,'DejaVu Sans Mono',consolas,'Courier New',monospace\">┏━━━━━━━━━━━━━━━━━━━━━━━━━━━━━━━━━━━━━━┳━━━━━━━━━━━━━━━━━━━━━━━━━━━━━┳━━━━━━━━━━━━━━━━━┓\n",
              "┃<span style=\"font-weight: bold\"> Layer (type)                         </span>┃<span style=\"font-weight: bold\"> Output Shape                </span>┃<span style=\"font-weight: bold\">         Param # </span>┃\n",
              "┡━━━━━━━━━━━━━━━━━━━━━━━━━━━━━━━━━━━━━━╇━━━━━━━━━━━━━━━━━━━━━━━━━━━━━╇━━━━━━━━━━━━━━━━━┩\n",
              "│ input_layer (<span style=\"color: #0087ff; text-decoration-color: #0087ff\">InputLayer</span>)             │ (<span style=\"color: #00d7ff; text-decoration-color: #00d7ff\">None</span>, <span style=\"color: #00af00; text-decoration-color: #00af00\">100</span>, <span style=\"color: #00af00; text-decoration-color: #00af00\">100</span>, <span style=\"color: #00af00; text-decoration-color: #00af00\">3</span>)         │               <span style=\"color: #00af00; text-decoration-color: #00af00\">0</span> │\n",
              "├──────────────────────────────────────┼─────────────────────────────┼─────────────────┤\n",
              "│ block1_conv1 (<span style=\"color: #0087ff; text-decoration-color: #0087ff\">Conv2D</span>)                │ (<span style=\"color: #00d7ff; text-decoration-color: #00d7ff\">None</span>, <span style=\"color: #00af00; text-decoration-color: #00af00\">100</span>, <span style=\"color: #00af00; text-decoration-color: #00af00\">100</span>, <span style=\"color: #00af00; text-decoration-color: #00af00\">64</span>)        │           <span style=\"color: #00af00; text-decoration-color: #00af00\">1,792</span> │\n",
              "├──────────────────────────────────────┼─────────────────────────────┼─────────────────┤\n",
              "│ block1_conv2 (<span style=\"color: #0087ff; text-decoration-color: #0087ff\">Conv2D</span>)                │ (<span style=\"color: #00d7ff; text-decoration-color: #00d7ff\">None</span>, <span style=\"color: #00af00; text-decoration-color: #00af00\">100</span>, <span style=\"color: #00af00; text-decoration-color: #00af00\">100</span>, <span style=\"color: #00af00; text-decoration-color: #00af00\">64</span>)        │          <span style=\"color: #00af00; text-decoration-color: #00af00\">36,928</span> │\n",
              "├──────────────────────────────────────┼─────────────────────────────┼─────────────────┤\n",
              "│ block1_pool (<span style=\"color: #0087ff; text-decoration-color: #0087ff\">MaxPooling2D</span>)           │ (<span style=\"color: #00d7ff; text-decoration-color: #00d7ff\">None</span>, <span style=\"color: #00af00; text-decoration-color: #00af00\">50</span>, <span style=\"color: #00af00; text-decoration-color: #00af00\">50</span>, <span style=\"color: #00af00; text-decoration-color: #00af00\">64</span>)          │               <span style=\"color: #00af00; text-decoration-color: #00af00\">0</span> │\n",
              "├──────────────────────────────────────┼─────────────────────────────┼─────────────────┤\n",
              "│ block2_conv1 (<span style=\"color: #0087ff; text-decoration-color: #0087ff\">Conv2D</span>)                │ (<span style=\"color: #00d7ff; text-decoration-color: #00d7ff\">None</span>, <span style=\"color: #00af00; text-decoration-color: #00af00\">50</span>, <span style=\"color: #00af00; text-decoration-color: #00af00\">50</span>, <span style=\"color: #00af00; text-decoration-color: #00af00\">128</span>)         │          <span style=\"color: #00af00; text-decoration-color: #00af00\">73,856</span> │\n",
              "├──────────────────────────────────────┼─────────────────────────────┼─────────────────┤\n",
              "│ block2_conv2 (<span style=\"color: #0087ff; text-decoration-color: #0087ff\">Conv2D</span>)                │ (<span style=\"color: #00d7ff; text-decoration-color: #00d7ff\">None</span>, <span style=\"color: #00af00; text-decoration-color: #00af00\">50</span>, <span style=\"color: #00af00; text-decoration-color: #00af00\">50</span>, <span style=\"color: #00af00; text-decoration-color: #00af00\">128</span>)         │         <span style=\"color: #00af00; text-decoration-color: #00af00\">147,584</span> │\n",
              "├──────────────────────────────────────┼─────────────────────────────┼─────────────────┤\n",
              "│ block2_pool (<span style=\"color: #0087ff; text-decoration-color: #0087ff\">MaxPooling2D</span>)           │ (<span style=\"color: #00d7ff; text-decoration-color: #00d7ff\">None</span>, <span style=\"color: #00af00; text-decoration-color: #00af00\">25</span>, <span style=\"color: #00af00; text-decoration-color: #00af00\">25</span>, <span style=\"color: #00af00; text-decoration-color: #00af00\">128</span>)         │               <span style=\"color: #00af00; text-decoration-color: #00af00\">0</span> │\n",
              "├──────────────────────────────────────┼─────────────────────────────┼─────────────────┤\n",
              "│ block3_conv1 (<span style=\"color: #0087ff; text-decoration-color: #0087ff\">Conv2D</span>)                │ (<span style=\"color: #00d7ff; text-decoration-color: #00d7ff\">None</span>, <span style=\"color: #00af00; text-decoration-color: #00af00\">25</span>, <span style=\"color: #00af00; text-decoration-color: #00af00\">25</span>, <span style=\"color: #00af00; text-decoration-color: #00af00\">256</span>)         │         <span style=\"color: #00af00; text-decoration-color: #00af00\">295,168</span> │\n",
              "├──────────────────────────────────────┼─────────────────────────────┼─────────────────┤\n",
              "│ block3_conv2 (<span style=\"color: #0087ff; text-decoration-color: #0087ff\">Conv2D</span>)                │ (<span style=\"color: #00d7ff; text-decoration-color: #00d7ff\">None</span>, <span style=\"color: #00af00; text-decoration-color: #00af00\">25</span>, <span style=\"color: #00af00; text-decoration-color: #00af00\">25</span>, <span style=\"color: #00af00; text-decoration-color: #00af00\">256</span>)         │         <span style=\"color: #00af00; text-decoration-color: #00af00\">590,080</span> │\n",
              "├──────────────────────────────────────┼─────────────────────────────┼─────────────────┤\n",
              "│ block3_conv3 (<span style=\"color: #0087ff; text-decoration-color: #0087ff\">Conv2D</span>)                │ (<span style=\"color: #00d7ff; text-decoration-color: #00d7ff\">None</span>, <span style=\"color: #00af00; text-decoration-color: #00af00\">25</span>, <span style=\"color: #00af00; text-decoration-color: #00af00\">25</span>, <span style=\"color: #00af00; text-decoration-color: #00af00\">256</span>)         │         <span style=\"color: #00af00; text-decoration-color: #00af00\">590,080</span> │\n",
              "├──────────────────────────────────────┼─────────────────────────────┼─────────────────┤\n",
              "│ block3_pool (<span style=\"color: #0087ff; text-decoration-color: #0087ff\">MaxPooling2D</span>)           │ (<span style=\"color: #00d7ff; text-decoration-color: #00d7ff\">None</span>, <span style=\"color: #00af00; text-decoration-color: #00af00\">12</span>, <span style=\"color: #00af00; text-decoration-color: #00af00\">12</span>, <span style=\"color: #00af00; text-decoration-color: #00af00\">256</span>)         │               <span style=\"color: #00af00; text-decoration-color: #00af00\">0</span> │\n",
              "├──────────────────────────────────────┼─────────────────────────────┼─────────────────┤\n",
              "│ block4_conv1 (<span style=\"color: #0087ff; text-decoration-color: #0087ff\">Conv2D</span>)                │ (<span style=\"color: #00d7ff; text-decoration-color: #00d7ff\">None</span>, <span style=\"color: #00af00; text-decoration-color: #00af00\">12</span>, <span style=\"color: #00af00; text-decoration-color: #00af00\">12</span>, <span style=\"color: #00af00; text-decoration-color: #00af00\">512</span>)         │       <span style=\"color: #00af00; text-decoration-color: #00af00\">1,180,160</span> │\n",
              "├──────────────────────────────────────┼─────────────────────────────┼─────────────────┤\n",
              "│ block4_conv2 (<span style=\"color: #0087ff; text-decoration-color: #0087ff\">Conv2D</span>)                │ (<span style=\"color: #00d7ff; text-decoration-color: #00d7ff\">None</span>, <span style=\"color: #00af00; text-decoration-color: #00af00\">12</span>, <span style=\"color: #00af00; text-decoration-color: #00af00\">12</span>, <span style=\"color: #00af00; text-decoration-color: #00af00\">512</span>)         │       <span style=\"color: #00af00; text-decoration-color: #00af00\">2,359,808</span> │\n",
              "├──────────────────────────────────────┼─────────────────────────────┼─────────────────┤\n",
              "│ block4_conv3 (<span style=\"color: #0087ff; text-decoration-color: #0087ff\">Conv2D</span>)                │ (<span style=\"color: #00d7ff; text-decoration-color: #00d7ff\">None</span>, <span style=\"color: #00af00; text-decoration-color: #00af00\">12</span>, <span style=\"color: #00af00; text-decoration-color: #00af00\">12</span>, <span style=\"color: #00af00; text-decoration-color: #00af00\">512</span>)         │       <span style=\"color: #00af00; text-decoration-color: #00af00\">2,359,808</span> │\n",
              "├──────────────────────────────────────┼─────────────────────────────┼─────────────────┤\n",
              "│ block4_pool (<span style=\"color: #0087ff; text-decoration-color: #0087ff\">MaxPooling2D</span>)           │ (<span style=\"color: #00d7ff; text-decoration-color: #00d7ff\">None</span>, <span style=\"color: #00af00; text-decoration-color: #00af00\">6</span>, <span style=\"color: #00af00; text-decoration-color: #00af00\">6</span>, <span style=\"color: #00af00; text-decoration-color: #00af00\">512</span>)           │               <span style=\"color: #00af00; text-decoration-color: #00af00\">0</span> │\n",
              "├──────────────────────────────────────┼─────────────────────────────┼─────────────────┤\n",
              "│ block5_conv1 (<span style=\"color: #0087ff; text-decoration-color: #0087ff\">Conv2D</span>)                │ (<span style=\"color: #00d7ff; text-decoration-color: #00d7ff\">None</span>, <span style=\"color: #00af00; text-decoration-color: #00af00\">6</span>, <span style=\"color: #00af00; text-decoration-color: #00af00\">6</span>, <span style=\"color: #00af00; text-decoration-color: #00af00\">512</span>)           │       <span style=\"color: #00af00; text-decoration-color: #00af00\">2,359,808</span> │\n",
              "├──────────────────────────────────────┼─────────────────────────────┼─────────────────┤\n",
              "│ block5_conv2 (<span style=\"color: #0087ff; text-decoration-color: #0087ff\">Conv2D</span>)                │ (<span style=\"color: #00d7ff; text-decoration-color: #00d7ff\">None</span>, <span style=\"color: #00af00; text-decoration-color: #00af00\">6</span>, <span style=\"color: #00af00; text-decoration-color: #00af00\">6</span>, <span style=\"color: #00af00; text-decoration-color: #00af00\">512</span>)           │       <span style=\"color: #00af00; text-decoration-color: #00af00\">2,359,808</span> │\n",
              "├──────────────────────────────────────┼─────────────────────────────┼─────────────────┤\n",
              "│ block5_conv3 (<span style=\"color: #0087ff; text-decoration-color: #0087ff\">Conv2D</span>)                │ (<span style=\"color: #00d7ff; text-decoration-color: #00d7ff\">None</span>, <span style=\"color: #00af00; text-decoration-color: #00af00\">6</span>, <span style=\"color: #00af00; text-decoration-color: #00af00\">6</span>, <span style=\"color: #00af00; text-decoration-color: #00af00\">512</span>)           │       <span style=\"color: #00af00; text-decoration-color: #00af00\">2,359,808</span> │\n",
              "├──────────────────────────────────────┼─────────────────────────────┼─────────────────┤\n",
              "│ block5_pool (<span style=\"color: #0087ff; text-decoration-color: #0087ff\">MaxPooling2D</span>)           │ (<span style=\"color: #00d7ff; text-decoration-color: #00d7ff\">None</span>, <span style=\"color: #00af00; text-decoration-color: #00af00\">3</span>, <span style=\"color: #00af00; text-decoration-color: #00af00\">3</span>, <span style=\"color: #00af00; text-decoration-color: #00af00\">512</span>)           │               <span style=\"color: #00af00; text-decoration-color: #00af00\">0</span> │\n",
              "├──────────────────────────────────────┼─────────────────────────────┼─────────────────┤\n",
              "│ flatten (<span style=\"color: #0087ff; text-decoration-color: #0087ff\">Flatten</span>)                    │ (<span style=\"color: #00d7ff; text-decoration-color: #00d7ff\">None</span>, <span style=\"color: #00af00; text-decoration-color: #00af00\">4608</span>)                │               <span style=\"color: #00af00; text-decoration-color: #00af00\">0</span> │\n",
              "├──────────────────────────────────────┼─────────────────────────────┼─────────────────┤\n",
              "│ dense (<span style=\"color: #0087ff; text-decoration-color: #0087ff\">Dense</span>)                        │ (<span style=\"color: #00d7ff; text-decoration-color: #00d7ff\">None</span>, <span style=\"color: #00af00; text-decoration-color: #00af00\">2</span>)                   │           <span style=\"color: #00af00; text-decoration-color: #00af00\">9,218</span> │\n",
              "└──────────────────────────────────────┴─────────────────────────────┴─────────────────┘\n",
              "</pre>\n"
            ]
          },
          "metadata": {}
        },
        {
          "output_type": "display_data",
          "data": {
            "text/plain": [
              "\u001b[1m Total params: \u001b[0m\u001b[38;5;34m14,723,906\u001b[0m (56.17 MB)\n"
            ],
            "text/html": [
              "<pre style=\"white-space:pre;overflow-x:auto;line-height:normal;font-family:Menlo,'DejaVu Sans Mono',consolas,'Courier New',monospace\"><span style=\"font-weight: bold\"> Total params: </span><span style=\"color: #00af00; text-decoration-color: #00af00\">14,723,906</span> (56.17 MB)\n",
              "</pre>\n"
            ]
          },
          "metadata": {}
        },
        {
          "output_type": "display_data",
          "data": {
            "text/plain": [
              "\u001b[1m Trainable params: \u001b[0m\u001b[38;5;34m9,218\u001b[0m (36.01 KB)\n"
            ],
            "text/html": [
              "<pre style=\"white-space:pre;overflow-x:auto;line-height:normal;font-family:Menlo,'DejaVu Sans Mono',consolas,'Courier New',monospace\"><span style=\"font-weight: bold\"> Trainable params: </span><span style=\"color: #00af00; text-decoration-color: #00af00\">9,218</span> (36.01 KB)\n",
              "</pre>\n"
            ]
          },
          "metadata": {}
        },
        {
          "output_type": "display_data",
          "data": {
            "text/plain": [
              "\u001b[1m Non-trainable params: \u001b[0m\u001b[38;5;34m14,714,688\u001b[0m (56.13 MB)\n"
            ],
            "text/html": [
              "<pre style=\"white-space:pre;overflow-x:auto;line-height:normal;font-family:Menlo,'DejaVu Sans Mono',consolas,'Courier New',monospace\"><span style=\"font-weight: bold\"> Non-trainable params: </span><span style=\"color: #00af00; text-decoration-color: #00af00\">14,714,688</span> (56.13 MB)\n",
              "</pre>\n"
            ]
          },
          "metadata": {}
        }
      ]
    },
    {
      "cell_type": "code",
      "source": [
        "model.compile(\n",
        "    loss='categorical_crossentropy',\n",
        "    optimizer=\"adam\",\n",
        "    metrics=['accuracy']\n",
        ")"
      ],
      "metadata": {
        "id": "juJU1pRfWjZk"
      },
      "execution_count": 38,
      "outputs": []
    },
    {
      "cell_type": "code",
      "source": [
        "trained_model=model.fit(augmented_data.flow(X_train,y_train,batch_size=32),validation_data=(X_test,y_test),steps_per_epoch=len(X_train)//32,epochs=100)"
      ],
      "metadata": {
        "colab": {
          "base_uri": "https://localhost:8080/"
        },
        "id": "psO7UzPdW3ht",
        "outputId": "a093c6de-8640-48f1-b6e7-df396e499c8b"
      },
      "execution_count": 53,
      "outputs": [
        {
          "metadata": {
            "tags": null
          },
          "name": "stderr",
          "output_type": "stream",
          "text": [
            "/usr/local/lib/python3.11/dist-packages/keras/src/trainers/data_adapters/py_dataset_adapter.py:121: UserWarning: Your `PyDataset` class should call `super().__init__(**kwargs)` in its constructor. `**kwargs` can include `workers`, `use_multiprocessing`, `max_queue_size`. Do not pass these arguments to `fit()`, as they will be ignored.\n",
            "  self._warn_if_super_not_called()\n"
          ]
        },
        {
          "metadata": {
            "tags": null
          },
          "name": "stdout",
          "output_type": "stream",
          "text": [
            "Epoch 1/100\n",
            "\u001b[1m57/57\u001b[0m \u001b[32m━━━━━━━━━━━━━━━━━━━━\u001b[0m\u001b[37m\u001b[0m \u001b[1m313s\u001b[0m 5s/step - accuracy: 0.6499 - loss: 4.4389 - val_accuracy: 0.8680 - val_loss: 1.2323\n",
            "Epoch 2/100\n",
            "\u001b[1m 1/57\u001b[0m \u001b[37m━━━━━━━━━━━━━━━━━━━━\u001b[0m \u001b[1m3:01\u001b[0m 3s/step - accuracy: 0.8438 - loss: 1.5913"
          ]
        },
        {
          "metadata": {
            "tags": null
          },
          "name": "stderr",
          "output_type": "stream",
          "text": [
            "/usr/local/lib/python3.11/dist-packages/keras/src/trainers/epoch_iterator.py:107: UserWarning: Your input ran out of data; interrupting training. Make sure that your dataset or generator can generate at least `steps_per_epoch * epochs` batches. You may need to use the `.repeat()` function when building your dataset.\n",
            "  self._interrupted_warning()\n"
          ]
        },
        {
          "output_type": "stream",
          "name": "stdout",
          "text": [
            "\u001b[1m57/57\u001b[0m \u001b[32m━━━━━━━━━━━━━━━━━━━━\u001b[0m\u001b[37m\u001b[0m \u001b[1m85s\u001b[0m 1s/step - accuracy: 0.8438 - loss: 1.5913 - val_accuracy: 0.8723 - val_loss: 1.2451\n",
            "Epoch 3/100\n",
            "\u001b[1m57/57\u001b[0m \u001b[32m━━━━━━━━━━━━━━━━━━━━\u001b[0m\u001b[37m\u001b[0m \u001b[1m327s\u001b[0m 5s/step - accuracy: 0.8849 - loss: 0.8951 - val_accuracy: 0.8961 - val_loss: 0.7678\n",
            "Epoch 4/100\n",
            "\u001b[1m57/57\u001b[0m \u001b[32m━━━━━━━━━━━━━━━━━━━━\u001b[0m\u001b[37m\u001b[0m \u001b[1m87s\u001b[0m 1s/step - accuracy: 0.8750 - loss: 0.7889 - val_accuracy: 0.8983 - val_loss: 0.7667\n",
            "Epoch 5/100\n",
            "\u001b[1m57/57\u001b[0m \u001b[32m━━━━━━━━━━━━━━━━━━━━\u001b[0m\u001b[37m\u001b[0m \u001b[1m321s\u001b[0m 5s/step - accuracy: 0.8914 - loss: 0.9271 - val_accuracy: 0.9156 - val_loss: 0.7461\n",
            "Epoch 6/100\n",
            "\u001b[1m57/57\u001b[0m \u001b[32m━━━━━━━━━━━━━━━━━━━━\u001b[0m\u001b[37m\u001b[0m \u001b[1m86s\u001b[0m 1s/step - accuracy: 0.8750 - loss: 0.7535 - val_accuracy: 0.9091 - val_loss: 0.7501\n",
            "Epoch 7/100\n",
            "\u001b[1m57/57\u001b[0m \u001b[32m━━━━━━━━━━━━━━━━━━━━\u001b[0m\u001b[37m\u001b[0m \u001b[1m355s\u001b[0m 5s/step - accuracy: 0.9038 - loss: 0.7430 - val_accuracy: 0.9091 - val_loss: 0.7404\n",
            "Epoch 8/100\n",
            "\u001b[1m57/57\u001b[0m \u001b[32m━━━━━━━━━━━━━━━━━━━━\u001b[0m\u001b[37m\u001b[0m \u001b[1m85s\u001b[0m 1s/step - accuracy: 0.9688 - loss: 0.0493 - val_accuracy: 0.9113 - val_loss: 0.7134\n",
            "Epoch 9/100\n",
            "\u001b[1m57/57\u001b[0m \u001b[32m━━━━━━━━━━━━━━━━━━━━\u001b[0m\u001b[37m\u001b[0m \u001b[1m306s\u001b[0m 5s/step - accuracy: 0.8955 - loss: 0.9197 - val_accuracy: 0.8831 - val_loss: 1.2495\n",
            "Epoch 10/100\n",
            "\u001b[1m57/57\u001b[0m \u001b[32m━━━━━━━━━━━━━━━━━━━━\u001b[0m\u001b[37m\u001b[0m \u001b[1m85s\u001b[0m 1s/step - accuracy: 0.9062 - loss: 0.7206 - val_accuracy: 0.8810 - val_loss: 1.2260\n",
            "Epoch 11/100\n",
            "\u001b[1m57/57\u001b[0m \u001b[32m━━━━━━━━━━━━━━━━━━━━\u001b[0m\u001b[37m\u001b[0m \u001b[1m358s\u001b[0m 5s/step - accuracy: 0.9123 - loss: 0.7350 - val_accuracy: 0.9048 - val_loss: 0.9443\n",
            "Epoch 12/100\n",
            "\u001b[1m57/57\u001b[0m \u001b[32m━━━━━━━━━━━━━━━━━━━━\u001b[0m\u001b[37m\u001b[0m \u001b[1m61s\u001b[0m 998ms/step - accuracy: 1.0000 - loss: 0.0095 - val_accuracy: 0.9048 - val_loss: 0.9470\n",
            "Epoch 13/100\n",
            "\u001b[1m57/57\u001b[0m \u001b[32m━━━━━━━━━━━━━━━━━━━━\u001b[0m\u001b[37m\u001b[0m \u001b[1m321s\u001b[0m 5s/step - accuracy: 0.9235 - loss: 0.6687 - val_accuracy: 0.9221 - val_loss: 0.4716\n",
            "Epoch 14/100\n",
            "\u001b[1m57/57\u001b[0m \u001b[32m━━━━━━━━━━━━━━━━━━━━\u001b[0m\u001b[37m\u001b[0m \u001b[1m86s\u001b[0m 1s/step - accuracy: 0.9375 - loss: 0.3061 - val_accuracy: 0.9264 - val_loss: 0.4632\n",
            "Epoch 15/100\n",
            "\u001b[1m57/57\u001b[0m \u001b[32m━━━━━━━━━━━━━━━━━━━━\u001b[0m\u001b[37m\u001b[0m \u001b[1m355s\u001b[0m 5s/step - accuracy: 0.9428 - loss: 0.4788 - val_accuracy: 0.9113 - val_loss: 0.6347\n",
            "Epoch 16/100\n",
            "\u001b[1m57/57\u001b[0m \u001b[32m━━━━━━━━━━━━━━━━━━━━\u001b[0m\u001b[37m\u001b[0m \u001b[1m85s\u001b[0m 1s/step - accuracy: 0.8125 - loss: 1.0137 - val_accuracy: 0.9156 - val_loss: 0.6142\n",
            "Epoch 17/100\n",
            "\u001b[1m57/57\u001b[0m \u001b[32m━━━━━━━━━━━━━━━━━━━━\u001b[0m\u001b[37m\u001b[0m \u001b[1m332s\u001b[0m 5s/step - accuracy: 0.9194 - loss: 0.6731 - val_accuracy: 0.8723 - val_loss: 1.2340\n",
            "Epoch 18/100\n",
            "\u001b[1m57/57\u001b[0m \u001b[32m━━━━━━━━━━━━━━━━━━━━\u001b[0m\u001b[37m\u001b[0m \u001b[1m85s\u001b[0m 1s/step - accuracy: 0.9688 - loss: 0.1729 - val_accuracy: 0.8745 - val_loss: 1.1821\n",
            "Epoch 19/100\n",
            "\u001b[1m57/57\u001b[0m \u001b[32m━━━━━━━━━━━━━━━━━━━━\u001b[0m\u001b[37m\u001b[0m \u001b[1m281s\u001b[0m 5s/step - accuracy: 0.9075 - loss: 0.8304 - val_accuracy: 0.9307 - val_loss: 0.7595\n",
            "Epoch 20/100\n",
            "\u001b[1m57/57\u001b[0m \u001b[32m━━━━━━━━━━━━━━━━━━━━\u001b[0m\u001b[37m\u001b[0m \u001b[1m85s\u001b[0m 1s/step - accuracy: 0.9375 - loss: 0.8523 - val_accuracy: 0.9177 - val_loss: 0.8367\n",
            "Epoch 21/100\n",
            "\u001b[1m57/57\u001b[0m \u001b[32m━━━━━━━━━━━━━━━━━━━━\u001b[0m\u001b[37m\u001b[0m \u001b[1m325s\u001b[0m 5s/step - accuracy: 0.9265 - loss: 0.5319 - val_accuracy: 0.9351 - val_loss: 0.6479\n",
            "Epoch 22/100\n",
            "\u001b[1m57/57\u001b[0m \u001b[32m━━━━━━━━━━━━━━━━━━━━\u001b[0m\u001b[37m\u001b[0m \u001b[1m86s\u001b[0m 1s/step - accuracy: 0.9062 - loss: 0.4616 - val_accuracy: 0.9372 - val_loss: 0.6337\n",
            "Epoch 23/100\n",
            "\u001b[1m57/57\u001b[0m \u001b[32m━━━━━━━━━━━━━━━━━━━━\u001b[0m\u001b[37m\u001b[0m \u001b[1m283s\u001b[0m 5s/step - accuracy: 0.9491 - loss: 0.3725 - val_accuracy: 0.9394 - val_loss: 0.7224\n",
            "Epoch 24/100\n",
            "\u001b[1m57/57\u001b[0m \u001b[32m━━━━━━━━━━━━━━━━━━━━\u001b[0m\u001b[37m\u001b[0m \u001b[1m85s\u001b[0m 1s/step - accuracy: 0.8750 - loss: 0.3411 - val_accuracy: 0.9394 - val_loss: 0.7090\n",
            "Epoch 25/100\n",
            "\u001b[1m57/57\u001b[0m \u001b[32m━━━━━━━━━━━━━━━━━━━━\u001b[0m\u001b[37m\u001b[0m \u001b[1m296s\u001b[0m 5s/step - accuracy: 0.9391 - loss: 0.5262 - val_accuracy: 0.9329 - val_loss: 0.6589\n",
            "Epoch 26/100\n",
            "\u001b[1m57/57\u001b[0m \u001b[32m━━━━━━━━━━━━━━━━━━━━\u001b[0m\u001b[37m\u001b[0m \u001b[1m61s\u001b[0m 1s/step - accuracy: 0.9375 - loss: 0.7336 - val_accuracy: 0.9221 - val_loss: 0.7117\n",
            "Epoch 27/100\n",
            "\u001b[1m57/57\u001b[0m \u001b[32m━━━━━━━━━━━━━━━━━━━━\u001b[0m\u001b[37m\u001b[0m \u001b[1m281s\u001b[0m 5s/step - accuracy: 0.9305 - loss: 0.5753 - val_accuracy: 0.9286 - val_loss: 0.7969\n",
            "Epoch 28/100\n",
            "\u001b[1m57/57\u001b[0m \u001b[32m━━━━━━━━━━━━━━━━━━━━\u001b[0m\u001b[37m\u001b[0m \u001b[1m61s\u001b[0m 1s/step - accuracy: 0.9375 - loss: 0.3442 - val_accuracy: 0.9286 - val_loss: 0.6681\n",
            "Epoch 29/100\n",
            "\u001b[1m57/57\u001b[0m \u001b[32m━━━━━━━━━━━━━━━━━━━━\u001b[0m\u001b[37m\u001b[0m \u001b[1m308s\u001b[0m 5s/step - accuracy: 0.9413 - loss: 0.5568 - val_accuracy: 0.9307 - val_loss: 0.6746\n",
            "Epoch 30/100\n",
            "\u001b[1m57/57\u001b[0m \u001b[32m━━━━━━━━━━━━━━━━━━━━\u001b[0m\u001b[37m\u001b[0m \u001b[1m87s\u001b[0m 1s/step - accuracy: 0.9375 - loss: 1.0096 - val_accuracy: 0.9264 - val_loss: 0.6986\n",
            "Epoch 31/100\n",
            "\u001b[1m57/57\u001b[0m \u001b[32m━━━━━━━━━━━━━━━━━━━━\u001b[0m\u001b[37m\u001b[0m \u001b[1m332s\u001b[0m 5s/step - accuracy: 0.9341 - loss: 0.6046 - val_accuracy: 0.9351 - val_loss: 0.7039\n",
            "Epoch 32/100\n",
            "\u001b[1m57/57\u001b[0m \u001b[32m━━━━━━━━━━━━━━━━━━━━\u001b[0m\u001b[37m\u001b[0m \u001b[1m87s\u001b[0m 1s/step - accuracy: 0.9688 - loss: 0.3878 - val_accuracy: 0.9351 - val_loss: 0.7157\n",
            "Epoch 33/100\n",
            "\u001b[1m57/57\u001b[0m \u001b[32m━━━━━━━━━━━━━━━━━━━━\u001b[0m\u001b[37m\u001b[0m \u001b[1m320s\u001b[0m 5s/step - accuracy: 0.9401 - loss: 0.5095 - val_accuracy: 0.9372 - val_loss: 0.6082\n",
            "Epoch 34/100\n",
            "\u001b[1m57/57\u001b[0m \u001b[32m━━━━━━━━━━━━━━━━━━━━\u001b[0m\u001b[37m\u001b[0m \u001b[1m86s\u001b[0m 1s/step - accuracy: 0.8438 - loss: 1.9440 - val_accuracy: 0.9351 - val_loss: 0.6061\n",
            "Epoch 35/100\n",
            "\u001b[1m57/57\u001b[0m \u001b[32m━━━━━━━━━━━━━━━━━━━━\u001b[0m\u001b[37m\u001b[0m \u001b[1m308s\u001b[0m 5s/step - accuracy: 0.9544 - loss: 0.4069 - val_accuracy: 0.9199 - val_loss: 0.7351\n",
            "Epoch 36/100\n",
            "\u001b[1m57/57\u001b[0m \u001b[32m━━━━━━━━━━━━━━━━━━━━\u001b[0m\u001b[37m\u001b[0m \u001b[1m60s\u001b[0m 1s/step - accuracy: 0.9375 - loss: 0.6270 - val_accuracy: 0.9199 - val_loss: 0.7456\n",
            "Epoch 37/100\n",
            "\u001b[1m57/57\u001b[0m \u001b[32m━━━━━━━━━━━━━━━━━━━━\u001b[0m\u001b[37m\u001b[0m \u001b[1m321s\u001b[0m 5s/step - accuracy: 0.9352 - loss: 0.5367 - val_accuracy: 0.9264 - val_loss: 0.7724\n",
            "Epoch 38/100\n",
            "\u001b[1m57/57\u001b[0m \u001b[32m━━━━━━━━━━━━━━━━━━━━\u001b[0m\u001b[37m\u001b[0m \u001b[1m60s\u001b[0m 977ms/step - accuracy: 0.8125 - loss: 1.0375 - val_accuracy: 0.9329 - val_loss: 0.7566\n",
            "Epoch 39/100\n",
            "\u001b[1m57/57\u001b[0m \u001b[32m━━━━━━━━━━━━━━━━━━━━\u001b[0m\u001b[37m\u001b[0m \u001b[1m309s\u001b[0m 5s/step - accuracy: 0.9449 - loss: 0.4571 - val_accuracy: 0.9351 - val_loss: 0.6922\n",
            "Epoch 40/100\n",
            "\u001b[1m57/57\u001b[0m \u001b[32m━━━━━━━━━━━━━━━━━━━━\u001b[0m\u001b[37m\u001b[0m \u001b[1m85s\u001b[0m 1s/step - accuracy: 0.9062 - loss: 1.0696 - val_accuracy: 0.9372 - val_loss: 0.6979\n",
            "Epoch 41/100\n",
            "\u001b[1m57/57\u001b[0m \u001b[32m━━━━━━━━━━━━━━━━━━━━\u001b[0m\u001b[37m\u001b[0m \u001b[1m332s\u001b[0m 5s/step - accuracy: 0.9470 - loss: 0.4646 - val_accuracy: 0.9394 - val_loss: 0.9346\n",
            "Epoch 42/100\n",
            "\u001b[1m57/57\u001b[0m \u001b[32m━━━━━━━━━━━━━━━━━━━━\u001b[0m\u001b[37m\u001b[0m \u001b[1m85s\u001b[0m 1s/step - accuracy: 0.9375 - loss: 0.9057 - val_accuracy: 0.9307 - val_loss: 0.9777\n",
            "Epoch 43/100\n",
            "\u001b[1m57/57\u001b[0m \u001b[32m━━━━━━━━━━━━━━━━━━━━\u001b[0m\u001b[37m\u001b[0m \u001b[1m311s\u001b[0m 5s/step - accuracy: 0.9384 - loss: 0.5158 - val_accuracy: 0.9394 - val_loss: 0.9956\n",
            "Epoch 44/100\n",
            "\u001b[1m57/57\u001b[0m \u001b[32m━━━━━━━━━━━━━━━━━━━━\u001b[0m\u001b[37m\u001b[0m \u001b[1m85s\u001b[0m 1s/step - accuracy: 0.9375 - loss: 0.3201 - val_accuracy: 0.9307 - val_loss: 1.0082\n",
            "Epoch 45/100\n",
            "\u001b[1m57/57\u001b[0m \u001b[32m━━━━━━━━━━━━━━━━━━━━\u001b[0m\u001b[37m\u001b[0m \u001b[1m356s\u001b[0m 5s/step - accuracy: 0.9482 - loss: 0.4593 - val_accuracy: 0.9221 - val_loss: 0.8935\n",
            "Epoch 46/100\n",
            "\u001b[1m57/57\u001b[0m \u001b[32m━━━━━━━━━━━━━━━━━━━━\u001b[0m\u001b[37m\u001b[0m \u001b[1m87s\u001b[0m 1s/step - accuracy: 0.9375 - loss: 1.6287 - val_accuracy: 0.9264 - val_loss: 0.8771\n",
            "Epoch 47/100\n",
            "\u001b[1m57/57\u001b[0m \u001b[32m━━━━━━━━━━━━━━━━━━━━\u001b[0m\u001b[37m\u001b[0m \u001b[1m287s\u001b[0m 5s/step - accuracy: 0.9445 - loss: 0.4827 - val_accuracy: 0.9286 - val_loss: 0.9320\n",
            "Epoch 48/100\n",
            "\u001b[1m57/57\u001b[0m \u001b[32m━━━━━━━━━━━━━━━━━━━━\u001b[0m\u001b[37m\u001b[0m \u001b[1m85s\u001b[0m 1s/step - accuracy: 1.0000 - loss: 0.0010 - val_accuracy: 0.9091 - val_loss: 1.1646\n",
            "Epoch 49/100\n",
            "\u001b[1m57/57\u001b[0m \u001b[32m━━━━━━━━━━━━━━━━━━━━\u001b[0m\u001b[37m\u001b[0m \u001b[1m320s\u001b[0m 5s/step - accuracy: 0.9202 - loss: 0.9260 - val_accuracy: 0.9394 - val_loss: 0.8409\n",
            "Epoch 50/100\n",
            "\u001b[1m57/57\u001b[0m \u001b[32m━━━━━━━━━━━━━━━━━━━━\u001b[0m\u001b[37m\u001b[0m \u001b[1m85s\u001b[0m 1s/step - accuracy: 0.8750 - loss: 2.7095 - val_accuracy: 0.9372 - val_loss: 0.8471\n",
            "Epoch 51/100\n",
            "\u001b[1m57/57\u001b[0m \u001b[32m━━━━━━━━━━━━━━━━━━━━\u001b[0m\u001b[37m\u001b[0m \u001b[1m356s\u001b[0m 5s/step - accuracy: 0.9537 - loss: 0.4253 - val_accuracy: 0.9286 - val_loss: 0.8768\n",
            "Epoch 52/100\n",
            "\u001b[1m57/57\u001b[0m \u001b[32m━━━━━━━━━━━━━━━━━━━━\u001b[0m\u001b[37m\u001b[0m \u001b[1m85s\u001b[0m 1s/step - accuracy: 0.9062 - loss: 1.2444 - val_accuracy: 0.9264 - val_loss: 0.9067\n",
            "Epoch 53/100\n",
            "\u001b[1m57/57\u001b[0m \u001b[32m━━━━━━━━━━━━━━━━━━━━\u001b[0m\u001b[37m\u001b[0m \u001b[1m310s\u001b[0m 5s/step - accuracy: 0.9297 - loss: 0.6514 - val_accuracy: 0.9329 - val_loss: 0.8778\n",
            "Epoch 54/100\n",
            "\u001b[1m57/57\u001b[0m \u001b[32m━━━━━━━━━━━━━━━━━━━━\u001b[0m\u001b[37m\u001b[0m \u001b[1m85s\u001b[0m 1s/step - accuracy: 0.9688 - loss: 0.1930 - val_accuracy: 0.9372 - val_loss: 0.9107\n",
            "Epoch 55/100\n",
            "\u001b[1m57/57\u001b[0m \u001b[32m━━━━━━━━━━━━━━━━━━━━\u001b[0m\u001b[37m\u001b[0m \u001b[1m359s\u001b[0m 6s/step - accuracy: 0.9540 - loss: 0.4349 - val_accuracy: 0.9437 - val_loss: 0.8732\n",
            "Epoch 56/100\n",
            "\u001b[1m57/57\u001b[0m \u001b[32m━━━━━━━━━━━━━━━━━━━━\u001b[0m\u001b[37m\u001b[0m \u001b[1m85s\u001b[0m 1s/step - accuracy: 0.9688 - loss: 0.0655 - val_accuracy: 0.9416 - val_loss: 0.9348\n",
            "Epoch 57/100\n",
            "\u001b[1m57/57\u001b[0m \u001b[32m━━━━━━━━━━━━━━━━━━━━\u001b[0m\u001b[37m\u001b[0m \u001b[1m355s\u001b[0m 5s/step - accuracy: 0.9443 - loss: 0.4409 - val_accuracy: 0.9372 - val_loss: 0.8951\n",
            "Epoch 58/100\n",
            "\u001b[1m57/57\u001b[0m \u001b[32m━━━━━━━━━━━━━━━━━━━━\u001b[0m\u001b[37m\u001b[0m \u001b[1m86s\u001b[0m 1s/step - accuracy: 0.9688 - loss: 1.3179 - val_accuracy: 0.9199 - val_loss: 0.9140\n",
            "Epoch 59/100\n",
            "\u001b[1m57/57\u001b[0m \u001b[32m━━━━━━━━━━━━━━━━━━━━\u001b[0m\u001b[37m\u001b[0m \u001b[1m310s\u001b[0m 5s/step - accuracy: 0.9468 - loss: 0.5089 - val_accuracy: 0.9307 - val_loss: 1.0185\n",
            "Epoch 60/100\n",
            "\u001b[1m57/57\u001b[0m \u001b[32m━━━━━━━━━━━━━━━━━━━━\u001b[0m\u001b[37m\u001b[0m \u001b[1m85s\u001b[0m 1s/step - accuracy: 0.9375 - loss: 0.7074 - val_accuracy: 0.9286 - val_loss: 1.0365\n",
            "Epoch 61/100\n",
            "\u001b[1m57/57\u001b[0m \u001b[32m━━━━━━━━━━━━━━━━━━━━\u001b[0m\u001b[37m\u001b[0m \u001b[1m335s\u001b[0m 5s/step - accuracy: 0.9384 - loss: 0.5752 - val_accuracy: 0.9459 - val_loss: 0.7741\n",
            "Epoch 62/100\n",
            "\u001b[1m57/57\u001b[0m \u001b[32m━━━━━━━━━━━━━━━━━━━━\u001b[0m\u001b[37m\u001b[0m \u001b[1m85s\u001b[0m 1s/step - accuracy: 0.9375 - loss: 0.3986 - val_accuracy: 0.9437 - val_loss: 0.7846\n",
            "Epoch 63/100\n",
            "\u001b[1m57/57\u001b[0m \u001b[32m━━━━━━━━━━━━━━━━━━━━\u001b[0m\u001b[37m\u001b[0m \u001b[1m318s\u001b[0m 5s/step - accuracy: 0.9519 - loss: 0.4800 - val_accuracy: 0.9329 - val_loss: 0.7872\n",
            "Epoch 64/100\n",
            "\u001b[1m57/57\u001b[0m \u001b[32m━━━━━━━━━━━━━━━━━━━━\u001b[0m\u001b[37m\u001b[0m \u001b[1m85s\u001b[0m 1s/step - accuracy: 0.9688 - loss: 0.0653 - val_accuracy: 0.9286 - val_loss: 0.7938\n",
            "Epoch 65/100\n",
            "\u001b[1m57/57\u001b[0m \u001b[32m━━━━━━━━━━━━━━━━━━━━\u001b[0m\u001b[37m\u001b[0m \u001b[1m333s\u001b[0m 5s/step - accuracy: 0.9458 - loss: 0.4233 - val_accuracy: 0.9199 - val_loss: 0.8609\n",
            "Epoch 66/100\n",
            "\u001b[1m57/57\u001b[0m \u001b[32m━━━━━━━━━━━━━━━━━━━━\u001b[0m\u001b[37m\u001b[0m \u001b[1m59s\u001b[0m 996ms/step - accuracy: 0.9375 - loss: 0.7295 - val_accuracy: 0.9221 - val_loss: 0.8131\n",
            "Epoch 67/100\n",
            "\u001b[1m57/57\u001b[0m \u001b[32m━━━━━━━━━━━━━━━━━━━━\u001b[0m\u001b[37m\u001b[0m \u001b[1m346s\u001b[0m 5s/step - accuracy: 0.9456 - loss: 0.5515 - val_accuracy: 0.9351 - val_loss: 0.6512\n",
            "Epoch 68/100\n",
            "\u001b[1m57/57\u001b[0m \u001b[32m━━━━━━━━━━━━━━━━━━━━\u001b[0m\u001b[37m\u001b[0m \u001b[1m85s\u001b[0m 1s/step - accuracy: 0.9688 - loss: 0.0378 - val_accuracy: 0.9177 - val_loss: 0.7764\n",
            "Epoch 69/100\n",
            "\u001b[1m57/57\u001b[0m \u001b[32m━━━━━━━━━━━━━━━━━━━━\u001b[0m\u001b[37m\u001b[0m \u001b[1m357s\u001b[0m 5s/step - accuracy: 0.9349 - loss: 0.6412 - val_accuracy: 0.9199 - val_loss: 1.1902\n",
            "Epoch 70/100\n",
            "\u001b[1m57/57\u001b[0m \u001b[32m━━━━━━━━━━━━━━━━━━━━\u001b[0m\u001b[37m\u001b[0m \u001b[1m85s\u001b[0m 1s/step - accuracy: 0.8750 - loss: 1.1797 - val_accuracy: 0.9199 - val_loss: 1.1368\n",
            "Epoch 71/100\n",
            "\u001b[1m57/57\u001b[0m \u001b[32m━━━━━━━━━━━━━━━━━━━━\u001b[0m\u001b[37m\u001b[0m \u001b[1m311s\u001b[0m 5s/step - accuracy: 0.9433 - loss: 0.5314 - val_accuracy: 0.9156 - val_loss: 1.3973\n",
            "Epoch 72/100\n",
            "\u001b[1m57/57\u001b[0m \u001b[32m━━━━━━━━━━━━━━━━━━━━\u001b[0m\u001b[37m\u001b[0m \u001b[1m61s\u001b[0m 1s/step - accuracy: 0.9375 - loss: 1.3407 - val_accuracy: 0.9199 - val_loss: 1.2451\n",
            "Epoch 73/100\n",
            "\u001b[1m57/57\u001b[0m \u001b[32m━━━━━━━━━━━━━━━━━━━━\u001b[0m\u001b[37m\u001b[0m \u001b[1m320s\u001b[0m 5s/step - accuracy: 0.9400 - loss: 0.6298 - val_accuracy: 0.9416 - val_loss: 0.6380\n",
            "Epoch 74/100\n",
            "\u001b[1m57/57\u001b[0m \u001b[32m━━━━━━━━━━━━━━━━━━━━\u001b[0m\u001b[37m\u001b[0m \u001b[1m85s\u001b[0m 1s/step - accuracy: 1.0000 - loss: 1.6577e-06 - val_accuracy: 0.9351 - val_loss: 0.6792\n",
            "Epoch 75/100\n",
            "\u001b[1m57/57\u001b[0m \u001b[32m━━━━━━━━━━━━━━━━━━━━\u001b[0m\u001b[37m\u001b[0m \u001b[1m356s\u001b[0m 5s/step - accuracy: 0.9445 - loss: 0.6713 - val_accuracy: 0.9481 - val_loss: 0.6626\n",
            "Epoch 76/100\n",
            "\u001b[1m57/57\u001b[0m \u001b[32m━━━━━━━━━━━━━━━━━━━━\u001b[0m\u001b[37m\u001b[0m \u001b[1m61s\u001b[0m 1s/step - accuracy: 0.9375 - loss: 1.4544 - val_accuracy: 0.9481 - val_loss: 0.6385\n",
            "Epoch 77/100\n",
            "\u001b[1m57/57\u001b[0m \u001b[32m━━━━━━━━━━━━━━━━━━━━\u001b[0m\u001b[37m\u001b[0m \u001b[1m321s\u001b[0m 5s/step - accuracy: 0.9505 - loss: 0.4773 - val_accuracy: 0.9416 - val_loss: 0.7620\n",
            "Epoch 78/100\n",
            "\u001b[1m57/57\u001b[0m \u001b[32m━━━━━━━━━━━━━━━━━━━━\u001b[0m\u001b[37m\u001b[0m \u001b[1m87s\u001b[0m 1s/step - accuracy: 0.9688 - loss: 0.1052 - val_accuracy: 0.9394 - val_loss: 0.7509\n",
            "Epoch 79/100\n",
            "\u001b[1m57/57\u001b[0m \u001b[32m━━━━━━━━━━━━━━━━━━━━\u001b[0m\u001b[37m\u001b[0m \u001b[1m355s\u001b[0m 5s/step - accuracy: 0.9517 - loss: 0.5755 - val_accuracy: 0.9156 - val_loss: 1.1008\n",
            "Epoch 80/100\n",
            "\u001b[1m57/57\u001b[0m \u001b[32m━━━━━━━━━━━━━━━━━━━━\u001b[0m\u001b[37m\u001b[0m \u001b[1m87s\u001b[0m 1s/step - accuracy: 0.9688 - loss: 0.5573 - val_accuracy: 0.9242 - val_loss: 1.0050\n",
            "Epoch 81/100\n",
            "\u001b[1m57/57\u001b[0m \u001b[32m━━━━━━━━━━━━━━━━━━━━\u001b[0m\u001b[37m\u001b[0m \u001b[1m287s\u001b[0m 5s/step - accuracy: 0.9501 - loss: 0.5223 - val_accuracy: 0.9481 - val_loss: 0.7508\n",
            "Epoch 82/100\n",
            "\u001b[1m57/57\u001b[0m \u001b[32m━━━━━━━━━━━━━━━━━━━━\u001b[0m\u001b[37m\u001b[0m \u001b[1m84s\u001b[0m 1s/step - accuracy: 0.9048 - loss: 0.3336 - val_accuracy: 0.9416 - val_loss: 0.8275\n",
            "Epoch 83/100\n",
            "\u001b[1m57/57\u001b[0m \u001b[32m━━━━━━━━━━━━━━━━━━━━\u001b[0m\u001b[37m\u001b[0m \u001b[1m310s\u001b[0m 5s/step - accuracy: 0.9467 - loss: 0.6038 - val_accuracy: 0.9351 - val_loss: 0.8086\n",
            "Epoch 84/100\n",
            "\u001b[1m57/57\u001b[0m \u001b[32m━━━━━━━━━━━━━━━━━━━━\u001b[0m\u001b[37m\u001b[0m \u001b[1m85s\u001b[0m 1s/step - accuracy: 0.9375 - loss: 0.6993 - val_accuracy: 0.9416 - val_loss: 0.8057\n",
            "Epoch 85/100\n",
            "\u001b[1m57/57\u001b[0m \u001b[32m━━━━━━━━━━━━━━━━━━━━\u001b[0m\u001b[37m\u001b[0m \u001b[1m310s\u001b[0m 5s/step - accuracy: 0.9367 - loss: 0.6798 - val_accuracy: 0.9351 - val_loss: 0.9112\n",
            "Epoch 86/100\n",
            "\u001b[1m57/57\u001b[0m \u001b[32m━━━━━━━━━━━━━━━━━━━━\u001b[0m\u001b[37m\u001b[0m \u001b[1m61s\u001b[0m 990ms/step - accuracy: 0.9375 - loss: 0.8047 - val_accuracy: 0.9372 - val_loss: 0.8966\n",
            "Epoch 87/100\n",
            "\u001b[1m57/57\u001b[0m \u001b[32m━━━━━━━━━━━━━━━━━━━━\u001b[0m\u001b[37m\u001b[0m \u001b[1m320s\u001b[0m 5s/step - accuracy: 0.9474 - loss: 0.6223 - val_accuracy: 0.9351 - val_loss: 0.9157\n",
            "Epoch 88/100\n",
            "\u001b[1m57/57\u001b[0m \u001b[32m━━━━━━━━━━━━━━━━━━━━\u001b[0m\u001b[37m\u001b[0m \u001b[1m60s\u001b[0m 987ms/step - accuracy: 0.9375 - loss: 0.2987 - val_accuracy: 0.9351 - val_loss: 0.9455\n",
            "Epoch 89/100\n",
            "\u001b[1m57/57\u001b[0m \u001b[32m━━━━━━━━━━━━━━━━━━━━\u001b[0m\u001b[37m\u001b[0m \u001b[1m286s\u001b[0m 5s/step - accuracy: 0.9466 - loss: 0.6794 - val_accuracy: 0.9394 - val_loss: 0.8704\n",
            "Epoch 90/100\n",
            "\u001b[1m57/57\u001b[0m \u001b[32m━━━━━━━━━━━━━━━━━━━━\u001b[0m\u001b[37m\u001b[0m \u001b[1m85s\u001b[0m 1s/step - accuracy: 0.9375 - loss: 0.4868 - val_accuracy: 0.9416 - val_loss: 0.9012\n",
            "Epoch 91/100\n",
            "\u001b[1m57/57\u001b[0m \u001b[32m━━━━━━━━━━━━━━━━━━━━\u001b[0m\u001b[37m\u001b[0m \u001b[1m310s\u001b[0m 5s/step - accuracy: 0.9478 - loss: 0.5552 - val_accuracy: 0.9221 - val_loss: 1.3178\n",
            "Epoch 92/100\n",
            "\u001b[1m57/57\u001b[0m \u001b[32m━━━━━━━━━━━━━━━━━━━━\u001b[0m\u001b[37m\u001b[0m \u001b[1m85s\u001b[0m 1s/step - accuracy: 0.9375 - loss: 0.9055 - val_accuracy: 0.9156 - val_loss: 1.4408\n",
            "Epoch 93/100\n",
            "\u001b[1m57/57\u001b[0m \u001b[32m━━━━━━━━━━━━━━━━━━━━\u001b[0m\u001b[37m\u001b[0m \u001b[1m311s\u001b[0m 6s/step - accuracy: 0.9403 - loss: 0.5504 - val_accuracy: 0.9372 - val_loss: 1.0582\n",
            "Epoch 94/100\n",
            "\u001b[1m57/57\u001b[0m \u001b[32m━━━━━━━━━━━━━━━━━━━━\u001b[0m\u001b[37m\u001b[0m \u001b[1m87s\u001b[0m 1s/step - accuracy: 1.0000 - loss: 6.3287e-06 - val_accuracy: 0.9372 - val_loss: 0.9870\n",
            "Epoch 95/100\n",
            "\u001b[1m57/57\u001b[0m \u001b[32m━━━━━━━━━━━━━━━━━━━━\u001b[0m\u001b[37m\u001b[0m \u001b[1m311s\u001b[0m 5s/step - accuracy: 0.9650 - loss: 0.4181 - val_accuracy: 0.9221 - val_loss: 1.0175\n",
            "Epoch 96/100\n",
            "\u001b[1m57/57\u001b[0m \u001b[32m━━━━━━━━━━━━━━━━━━━━\u001b[0m\u001b[37m\u001b[0m \u001b[1m85s\u001b[0m 1s/step - accuracy: 0.8750 - loss: 1.0585 - val_accuracy: 0.9221 - val_loss: 1.0570\n",
            "Epoch 97/100\n",
            "\u001b[1m57/57\u001b[0m \u001b[32m━━━━━━━━━━━━━━━━━━━━\u001b[0m\u001b[37m\u001b[0m \u001b[1m357s\u001b[0m 5s/step - accuracy: 0.9618 - loss: 0.3337 - val_accuracy: 0.9329 - val_loss: 0.9931\n",
            "Epoch 98/100\n",
            "\u001b[1m57/57\u001b[0m \u001b[32m━━━━━━━━━━━━━━━━━━━━\u001b[0m\u001b[37m\u001b[0m \u001b[1m86s\u001b[0m 1s/step - accuracy: 0.9062 - loss: 0.7598 - val_accuracy: 0.9329 - val_loss: 0.9808\n",
            "Epoch 99/100\n",
            "\u001b[1m57/57\u001b[0m \u001b[32m━━━━━━━━━━━━━━━━━━━━\u001b[0m\u001b[37m\u001b[0m \u001b[1m355s\u001b[0m 5s/step - accuracy: 0.9453 - loss: 0.5883 - val_accuracy: 0.9329 - val_loss: 1.0434\n",
            "Epoch 100/100\n",
            "\u001b[1m57/57\u001b[0m \u001b[32m━━━━━━━━━━━━━━━━━━━━\u001b[0m\u001b[37m\u001b[0m \u001b[1m86s\u001b[0m 1s/step - accuracy: 0.9688 - loss: 0.2822 - val_accuracy: 0.9351 - val_loss: 1.1541\n"
          ]
        }
      ]
    },
    {
      "cell_type": "code",
      "source": [
        "model.save('model.h5')"
      ],
      "metadata": {
        "id": "Y7RR3rcsW_HW",
        "colab": {
          "base_uri": "https://localhost:8080/"
        },
        "outputId": "7ef32df7-2f9f-491e-9269-83c9ed9f8331"
      },
      "execution_count": 39,
      "outputs": [
        {
          "output_type": "stream",
          "name": "stderr",
          "text": [
            "WARNING:absl:You are saving your model as an HDF5 file via `model.save()` or `keras.saving.save_model(model)`. This file format is considered legacy. We recommend using instead the native Keras format, e.g. `model.save('my_model.keras')` or `keras.saving.save_model(model, 'my_model.keras')`. \n"
          ]
        }
      ]
    },
    {
      "cell_type": "code",
      "source": [
        "model.save('/content/drive/MyDrive/model.h5')"
      ],
      "metadata": {
        "colab": {
          "base_uri": "https://localhost:8080/",
          "height": 141
        },
        "id": "jPsZLBNJdYqk",
        "outputId": "6c6e8092-2627-4f4e-c6f6-469fa9ee123d"
      },
      "execution_count": 17,
      "outputs": [
        {
          "output_type": "error",
          "ename": "NameError",
          "evalue": "name 'model' is not defined",
          "traceback": [
            "\u001b[0;31m---------------------------------------------------------------------------\u001b[0m",
            "\u001b[0;31mNameError\u001b[0m                                 Traceback (most recent call last)",
            "\u001b[0;32m<ipython-input-17-750155314ccf>\u001b[0m in \u001b[0;36m<cell line: 0>\u001b[0;34m()\u001b[0m\n\u001b[0;32m----> 1\u001b[0;31m \u001b[0mmodel\u001b[0m\u001b[0;34m.\u001b[0m\u001b[0msave\u001b[0m\u001b[0;34m(\u001b[0m\u001b[0;34m'/content/drive/MyDrive/model.h5'\u001b[0m\u001b[0;34m)\u001b[0m\u001b[0;34m\u001b[0m\u001b[0;34m\u001b[0m\u001b[0m\n\u001b[0m",
            "\u001b[0;31mNameError\u001b[0m: name 'model' is not defined"
          ]
        }
      ]
    },
    {
      "cell_type": "code",
      "source": [
        "image_to_test=cv2.imread('/content/kabu.jpg')"
      ],
      "metadata": {
        "id": "veFNgxjzfk9g"
      },
      "execution_count": 12,
      "outputs": []
    },
    {
      "cell_type": "code",
      "source": [
        "image_to_test=cv2.resize(image_to_test,(100,100))"
      ],
      "metadata": {
        "id": "PDw14NFMgBZY"
      },
      "execution_count": 13,
      "outputs": []
    },
    {
      "cell_type": "code",
      "source": [
        "image_to_test.shape"
      ],
      "metadata": {
        "id": "pL3dkAtfxTmA",
        "colab": {
          "base_uri": "https://localhost:8080/"
        },
        "outputId": "d098f9ae-a32e-4ab6-e23e-c1383306071e"
      },
      "execution_count": 14,
      "outputs": [
        {
          "output_type": "execute_result",
          "data": {
            "text/plain": [
              "(100, 100, 3)"
            ]
          },
          "metadata": {},
          "execution_count": 14
        }
      ]
    },
    {
      "cell_type": "code",
      "source": [
        "image_to_test= image_to_test.astype(\"float\") / 255.0\n",
        "image_to_test=img_to_array(image_to_test)\n",
        "image_to_test=np.expand_dims(image_to_test,axis=0)"
      ],
      "metadata": {
        "id": "_JTNULvrgF3h"
      },
      "execution_count": 15,
      "outputs": []
    },
    {
      "cell_type": "code",
      "source": [
        "y_pred=model.predict(image_to_test)[0]"
      ],
      "metadata": {
        "id": "_kSbtl6UhIlU",
        "colab": {
          "base_uri": "https://localhost:8080/",
          "height": 141
        },
        "outputId": "d0882b93-3c9e-4a08-8a66-0e4417546ce0"
      },
      "execution_count": 16,
      "outputs": [
        {
          "output_type": "error",
          "ename": "NameError",
          "evalue": "name 'model' is not defined",
          "traceback": [
            "\u001b[0;31m---------------------------------------------------------------------------\u001b[0m",
            "\u001b[0;31mNameError\u001b[0m                                 Traceback (most recent call last)",
            "\u001b[0;32m<ipython-input-16-f44bc8d29006>\u001b[0m in \u001b[0;36m<cell line: 0>\u001b[0;34m()\u001b[0m\n\u001b[0;32m----> 1\u001b[0;31m \u001b[0my_pred\u001b[0m\u001b[0;34m=\u001b[0m\u001b[0mmodel\u001b[0m\u001b[0;34m.\u001b[0m\u001b[0mpredict\u001b[0m\u001b[0;34m(\u001b[0m\u001b[0mimage_to_test\u001b[0m\u001b[0;34m)\u001b[0m\u001b[0;34m[\u001b[0m\u001b[0;36m0\u001b[0m\u001b[0;34m]\u001b[0m\u001b[0;34m\u001b[0m\u001b[0;34m\u001b[0m\u001b[0m\n\u001b[0m",
            "\u001b[0;31mNameError\u001b[0m: name 'model' is not defined"
          ]
        }
      ]
    },
    {
      "cell_type": "code",
      "source": [
        "classes=['man','woman']"
      ],
      "metadata": {
        "id": "T0B2xbVJhRRV"
      },
      "execution_count": 94,
      "outputs": []
    },
    {
      "cell_type": "code",
      "source": [
        "idx=np.argmax(y_pred)"
      ],
      "metadata": {
        "id": "ELjjvSZBhaqy"
      },
      "execution_count": 95,
      "outputs": []
    },
    {
      "cell_type": "code",
      "source": [
        "label=classes[idx]"
      ],
      "metadata": {
        "id": "BxyeSDrbhfYW"
      },
      "execution_count": 96,
      "outputs": []
    },
    {
      "cell_type": "code",
      "source": [
        "print(label)"
      ],
      "metadata": {
        "id": "UEmjcbjShkDg",
        "colab": {
          "base_uri": "https://localhost:8080/"
        },
        "outputId": "311584dc-6136-429f-8f35-6bfbfb03531d"
      },
      "execution_count": 97,
      "outputs": [
        {
          "output_type": "stream",
          "name": "stdout",
          "text": [
            "man\n"
          ]
        }
      ]
    },
    {
      "cell_type": "code",
      "source": [],
      "metadata": {
        "id": "1NCuo3fDhl0P"
      },
      "execution_count": 57,
      "outputs": []
    }
  ]
}